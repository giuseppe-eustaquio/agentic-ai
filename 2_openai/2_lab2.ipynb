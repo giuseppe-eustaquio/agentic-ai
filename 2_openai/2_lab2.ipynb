{
 "cells": [
  {
   "cell_type": "markdown",
   "metadata": {},
   "source": [
    "## Week 2 Day 2\n",
    "\n",
    "Our first Agentic Framework project!!\n",
    "\n",
    "Prepare yourself for something ridiculously easy.\n",
    "\n",
    "We're going to build a simple Agent system for generating cold sales outreach emails:\n",
    "1. Agent workflow\n",
    "2. Use of tools to call functions\n",
    "3. Agent collaboration via Tools and Handoffs"
   ]
  },
  {
   "cell_type": "markdown",
   "metadata": {},
   "source": [
    "## Before we start - some setup:\n",
    "\n",
    "\n",
    "Please visit Sendgrid at: https://sendgrid.com/\n",
    "\n",
    "(Sendgrid is a Twilio company for sending emails.)\n",
    "\n",
    "If SendGrid gives you problems, see the alternative implementation using \"Resend Email\" in community_contributions/2_lab2_with_resend_email\n",
    "\n",
    "Please set up an account - it's free! (at least, for me, right now).\n",
    "\n",
    "Once you've created an account, click on:\n",
    "\n",
    "Settings (left sidebar) >> API Keys >> Create API Key (button on top right)\n",
    "\n",
    "Copy the key to the clipboard, then add a new line to your .env file:\n",
    "\n",
    "`SENDGRID_API_KEY=xxxx`\n",
    "\n",
    "And also, within SendGrid, go to:\n",
    "\n",
    "Settings (left sidebar) >> Sender Authentication >> \"Verify a Single Sender\"  \n",
    "and verify that your own email address is a real email address, so that SendGrid can send emails for you.\n"
   ]
  },
  {
   "cell_type": "code",
   "execution_count": 1,
   "metadata": {},
   "outputs": [],
   "source": [
    "# from dotenv import load_dotenv\n",
    "# from agents import Agent, Runner, trace, function_tool\n",
    "# from openai.types.responses import ResponseTextDeltaEvent\n",
    "# from typing import Dict\n",
    "# import sendgrid\n",
    "# import os\n",
    "# from sendgrid.helpers.mail import Mail, Email, To, Content\n",
    "# import asyncio\n",
    "\n",
    "import os\n",
    "from dotenv import load_dotenv\n",
    "from agents import Agent, Runner, trace, function_tool, OpenAIChatCompletionsModel, set_tracing_export_api_key\n",
    "from openai import AsyncOpenAI\n",
    "from openai.types.responses import ResponseTextDeltaEvent\n",
    "from typing import Dict\n",
    "import sendgrid\n",
    "from sendgrid.helpers.mail import Mail, Email, To, Content\n",
    "import asyncio\n",
    "\n"
   ]
  },
  {
   "cell_type": "code",
   "execution_count": 2,
   "metadata": {},
   "outputs": [],
   "source": [
    "load_dotenv(override=True)\n",
    "SENDGRID_API_KEY = os.getenv('SENDGRID_API_KEY')"
   ]
  },
  {
   "cell_type": "code",
   "execution_count": 9,
   "metadata": {},
   "outputs": [
    {
     "name": "stdout",
     "output_type": "stream",
     "text": [
      "202\n"
     ]
    }
   ],
   "source": [
    "# Let's just check emails are working for you\n",
    "\n",
    "# def send_test_email():\n",
    "#     sg = sendgrid.SendGridAPIClient(api_key=SENDGRID_API_KEY)\n",
    "#     from_email = Email(\"soulcrash345@gmail.com\")  # Change to your verified sender\n",
    "#     to_email = To(\"soulcrash345@gmail.com\")  # Change to your recipient\n",
    "#     content = Content(\"text/plain\", \"This is an important test email\")\n",
    "#     mail = Mail(from_email, to_email, \"Test email\", content).get()\n",
    "#     response = sg.client.mail.send.post(request_body=mail)\n",
    "#     print(response.status_code)\n",
    "\n",
    "# send_test_email()\n",
    "\n",
    "def send_test_email():\n",
    "    sg = sendgrid.SendGridAPIClient(api_key=SENDGRID_API_KEY)\n",
    "    from_email = Email('soulcrash345@gmail.com')\n",
    "    to_email = To('soulcrash345@gmail.com')\n",
    "    content = Content('text/plain', 'This is another important test email')\n",
    "    mail = Mail(from_email, to_email, \"test email\", content).get()\n",
    "    response = sg.client.mail.send.post(request_body=mail)\n",
    "    print(response.status_code)\n",
    "send_test_email()"
   ]
  },
  {
   "cell_type": "markdown",
   "metadata": {},
   "source": [
    "### Did you receive the test email\n",
    "\n",
    "If you get a 202, then you're good to go!\n",
    "\n",
    "#### Certificate error\n",
    "\n",
    "If you get an error SSL: CERTIFICATE_VERIFY_FAILED then students Chris S and Oleksandr K have suggestions:  \n",
    "First run this: `!uv pip install --upgrade certifi`  \n",
    "Next, run this:\n",
    "```python\n",
    "import certifi\n",
    "import os\n",
    "os.environ['SSL_CERT_FILE'] = certifi.where()\n",
    "```\n",
    "\n",
    "#### Other errors or no email\n",
    "\n",
    "If there are other problems, you'll need to check your API key and your verified sender email address in the SendGrid dashboard\n",
    "\n",
    "Or use the alternative implementation using \"Resend Email\" in community_contributions/2_lab2_with_resend_email\n",
    "\n",
    "(Or - you could always replace the email sending code below with a Pushover call, or something to simply write to a flat file)"
   ]
  },
  {
   "cell_type": "markdown",
   "metadata": {},
   "source": [
    "## Step 1: Agent workflow"
   ]
  },
  {
   "cell_type": "code",
   "execution_count": 4,
   "metadata": {},
   "outputs": [],
   "source": [
    "instructions1 = \"You are a sales agent working for ComplAI, \\\n",
    "a company that provides a SaaS tool for ensuring SOC2 compliance and preparing for audits, powered by AI. \\\n",
    "You write professional, serious cold emails.\"\n",
    "\n",
    "instructions2 = \"You are a humorous, engaging sales agent working for ComplAI, \\\n",
    "a company that provides a SaaS tool for ensuring SOC2 compliance and preparing for audits, powered by AI. \\\n",
    "You write witty, engaging cold emails that are likely to get a response.\"\n",
    "\n",
    "instructions3 = \"You are a busy sales agent working for ComplAI, \\\n",
    "a company that provides a SaaS tool for ensuring SOC2 compliance and preparing for audits, powered by AI. \\\n",
    "You write concise, to the point cold emails.\""
   ]
  },
  {
   "cell_type": "code",
   "execution_count": 5,
   "metadata": {},
   "outputs": [],
   "source": [
    "# sales_agent1 = Agent(\n",
    "#         name=\"Professional Sales Agent\",\n",
    "#         instructions=instructions1,\n",
    "#         model=\"gpt-4o-mini\"\n",
    "# )\n",
    "\n",
    "# sales_agent2 = Agent(\n",
    "#         name=\"Engaging Sales Agent\",\n",
    "#         instructions=instructions2,\n",
    "#         model=\"gpt-4o-mini\"\n",
    "# )\n",
    "\n",
    "# sales_agent3 = Agent(\n",
    "#         name=\"Busy Sales Agent\",\n",
    "#         instructions=instructions3,\n",
    "#         model=\"gpt-4o-mini\"\n",
    "# )\n",
    "# OpenAI model\n",
    "# OPENAI_MODEL = os.getenv('OPENAI_MODEL')\n",
    "# sales_agent1 = Agent(\n",
    "#     name='Professional Sales Agent',\n",
    "#     instructions=instructions1,\n",
    "#     model=OPENAI_MODEL\n",
    "# )\n",
    "\n",
    "# sales_agent2 = Agent(\n",
    "#     name='Engaging Sales Agent',\n",
    "#     instructions=instructions2,\n",
    "#     model=OPENAI_MODEL\n",
    "# )\n",
    "\n",
    "# sales_agent3 = Agent(\n",
    "#     name='Busy Sales Agent',\n",
    "#     instructions=instructions3,\n",
    "#     model=OPENAI_MODEL\n",
    "# )\n",
    "\n",
    "# Gemini model\n",
    "GEMINI_API_KEY = os.getenv('GEMINI_API_KEY')\n",
    "GEMINI_BASE_URL = os.getenv('GEMINI_BASE_URL')\n",
    "GEMINI_MODEL = os.getenv('GEMINI_MODEL')\n",
    "\n",
    "OPENAI_API_KEY = os.getenv('OPENAI_API_KEY')\n",
    "\n",
    "set_tracing_export_api_key(OPENAI_API_KEY)\n",
    "\n",
    "gemini_client = AsyncOpenAI(base_url=GEMINI_BASE_URL, api_key=GEMINI_API_KEY)\n",
    "\n",
    "gemini_model = OpenAIChatCompletionsModel(model=GEMINI_MODEL, openai_client=gemini_client)\n",
    "\n",
    "sales_agent1 = Agent(\n",
    "    name='Professional Sales Agent',\n",
    "    instructions=instructions1,\n",
    "    model=gemini_model\n",
    ")\n",
    "\n",
    "sales_agent2 = Agent(\n",
    "    name='Engaging Sales Agent',\n",
    "    instructions=instructions2,\n",
    "    model=gemini_model\n",
    ")\n",
    "\n",
    "sales_agent3 = Agent(\n",
    "    name='Busy Sales Agent',\n",
    "    instructions=instructions3,\n",
    "    model=gemini_model\n",
    ")\n"
   ]
  },
  {
   "cell_type": "code",
   "execution_count": 6,
   "metadata": {},
   "outputs": [
    {
     "name": "stdout",
     "output_type": "stream",
     "text": [
      "Subject: ComplAI: Streamlining SOC2 Compliance & Audit Readiness for [Company Name]\n",
      "\n",
      "Dear [Prospect Name],\n",
      "\n",
      "I am reaching out from ComplAI as we specialize in helping organizations like yours navigate the complexities of SOC2 compliance and audit preparation with greater efficiency and confidence.\n",
      "\n",
      "We understand that achieving and maintaining SOC2 compliance, especially while scaling and innovating, can be a significant drain on valuable engineering and operational resources. Manual processes, continuous evidence collection, and the constant fear of audit findings often divert focus from core business objectives.\n",
      "\n",
      "ComplAI is an AI-powered SaaS platform designed to transform your SOC2 journey. Our solution proactively identifies compliance gaps, automates evidence collection, and provides real-time insights, significantly reducing the time, cost, and stress associated with preparing for and passing your SOC2 audits.\n",
      "\n",
      "With ComplAI, your team can:\n",
      "*   **Automate evidence collection:** Reduce manual effort by integrating with your existing tools.\n",
      "*   **Achieve continuous compliance:** Monitor controls in real-time, ensuring you're always audit-ready.\n",
      "*   **Proactively identify risks:** Leverage AI to pinpoint potential issues before they become problems.\n",
      "*   **Generate audit-ready reports:** Prepare comprehensive documentation with ease.\n",
      "*   **Significantly reduce audit timelines and costs:** Free up your team to focus on strategic initiatives.\n",
      "\n",
      "Would you be open to a brief 15-minute call next week to explore how ComplAI could directly benefit [Company Name] in accelerating your compliance journey? I'm confident we can demonstrate tangible value.\n",
      "\n",
      "If now isn't the right time, or if you prefer, I'd be happy to send over a concise overview of our platform.\n",
      "\n",
      "Thank you for your time and consideration.\n",
      "\n",
      "Best regards,\n",
      "\n",
      "[Your Name]\n",
      "Sales Representative\n",
      "ComplAI\n",
      "[Your Title]\n",
      "[Your Phone Number (Optional)]\n",
      "[Your Website]"
     ]
    }
   ],
   "source": [
    "\n",
    "# result = Runner.run_streamed(sales_agent1, input=\"Write a cold sales email\")\n",
    "# async for event in result.stream_events():\n",
    "#     if event.type == \"raw_response_event\" and isinstance(event.data, ResponseTextDeltaEvent):\n",
    "#         print(event.data.delta, end=\"\", flush=True)\n",
    "\n",
    "result = Runner.run_streamed(sales_agent1, input=\"Write a cold sales email\")\n",
    "\n",
    "async for event in result.stream_events():\n",
    "    if event.type == 'raw_response_event' and isinstance(event.data, ResponseTextDeltaEvent):\n",
    "        print(event.data.delta, end='', flush=True)"
   ]
  },
  {
   "cell_type": "code",
   "execution_count": 7,
   "metadata": {},
   "outputs": [
    {
     "name": "stdout",
     "output_type": "stream",
     "text": [
      "Subject: [Company Name]: Optimizing Your SOC 2 Journey & Audit Readiness\n",
      "\n",
      "Dear [Mr./Ms./Mx. Last Name],\n",
      "\n",
      "Given [Company Name]'s impressive trajectory and the increasing demand for robust security assurances in the market, SOC 2 compliance is likely a significant focus or on your near-term strategic roadmap.\n",
      "\n",
      "Navigating the complexities of SOC 2 can be resource-intensive, often diverting critical engineering and operations teams from core objectives. Manual evidence collection, continuous monitoring, and the stress of audit preparation often lead to bottlenecks, delays, and significant overhead.\n",
      "\n",
      "At ComplAI, we've developed an AI-powered SaaS solution specifically designed to transform this process. Our platform automates evidence collection, identifies compliance gaps in real-time, and provides clear, actionable guidance to ensure continuous readiness for your SOC 2 audit.\n",
      "\n",
      "This translates into:\n",
      "*   **Significant Time Savings:** Automate compliance tasks that typically consume hundreds of hours.\n",
      "*   **Reduced Audit Costs:** Be continuously prepared, minimizing last-minute scramble and potential auditor fees.\n",
      "*   **Enhanced Security Posture:** Proactively address gaps before they become vulnerabilities.\n",
      "*   **Accelerated Business Growth:** Secure more enterprise clients and unlock new market opportunities faster.\n",
      "\n",
      "Would you be open to a brief 15-minute call next week to explore how ComplAI could directly benefit [Company Name] by streamlining your path to SOC 2 compliance and audit success?\n",
      "\n",
      "Thank you for your time and consideration.\n",
      "\n",
      "Best regards,\n",
      "\n",
      "[Your Name]\n",
      "Sales Director\n",
      "ComplAI\n",
      "[Your Website]\n",
      "[Your Phone Number (Optional)]\n",
      "\n",
      "\n",
      "Subject: Is your SOC2 prep giving you grey hairs? We have a conditioner.\n",
      "\n",
      "Hi [Recipient Name],\n",
      "\n",
      "Let's be honest. Nobody wakes up thinking, \"Yay! Today I get to dive deep into SOC2 compliance!\" Unless you're a compliance auditor, in which case, we probably have very different definitions of \"fun.\"\n",
      "\n",
      "For the rest of us, it often feels like a never-ending quest for elusive evidence, chasing down team members, and praying your audit report doesn't look like a toddler's abstract art project. Am I right?\n",
      "\n",
      "That's where **ComplAI** steps in, like a knight in shining, AI-powered armor. We've built a SaaS tool that turns your SOC2 compliance journey from a frantic scramble into a smooth, almost enjoyable process (okay, \"enjoyable\" might be pushing it, but definitely \"significantly less soul-crushing\").\n",
      "\n",
      "Our AI brain automatically collects evidence, flags potential issues before they become actual nightmares, and basically sets you up for an audit that feels more like a casual chat than an interrogation. Imagine having an audit without that familiar knot in your stomach. Revolutionary, right?\n",
      "\n",
      "If you're tired of playing hide-and-seek with your compliance documents and would rather spend your time building awesome products (or, you know, sleeping), I'd love to show you how ComplAI can give you back your precious time and peace of mind.\n",
      "\n",
      "Would you be open to a quick 15-minute virtual coffee to see our magic in action?\n",
      "\n",
      "Cheers,\n",
      "\n",
      "[Your Name]\n",
      "[Your Title]\n",
      "ComplAI - Your AI-Powered SOC2 Sidekick\n",
      "[Your Website]\n",
      "[Your LinkedIn Profile (Optional)]\n",
      "\n",
      "\n",
      "Subject: SOC2 & Audits: AI-Powered Simplicity\n",
      "\n",
      "Hi [Name],\n",
      "\n",
      "SOC2 compliance and audit prep can be a drain on resources.\n",
      "\n",
      "ComplAI offers an AI-powered SaaS tool specifically designed to automate and simplify your entire SOC2 journey – from readiness to audit.\n",
      "\n",
      "This means significantly less manual effort, faster audit readiness, and consistent compliance, saving your team countless hours and stress.\n",
      "\n",
      "Would you be open to a quick 15-minute chat next week to explore how ComplAI could streamline your next audit?\n",
      "\n",
      "Best,\n",
      "\n",
      "[Your Name]\n",
      "Sales Agent, ComplAI\n",
      "[Your Website] | [Your LinkedIn (Optional)]\n",
      "\n",
      "\n"
     ]
    }
   ],
   "source": [
    "# message = \"Write a cold sales email\"\n",
    "\n",
    "# with trace(\"Parallel cold emails\"):\n",
    "#     results = await asyncio.gather(\n",
    "#         Runner.run(sales_agent1, message),\n",
    "#         Runner.run(sales_agent2, message),\n",
    "#         Runner.run(sales_agent3, message),\n",
    "#     )\n",
    "\n",
    "# outputs = [result.final_output for result in results]\n",
    "\n",
    "# for output in outputs:\n",
    "#     print(output + \"\\n\\n\")\n",
    "\n",
    "message = 'Write a cold sales email'\n",
    "\n",
    "with trace('Parallel cold emails'):\n",
    "    results = await asyncio.gather(\n",
    "        Runner.run(sales_agent1, message),\n",
    "        Runner.run(sales_agent2, message),\n",
    "        Runner.run(sales_agent3, message)\n",
    "    )\n",
    "\n",
    "outputs = [result.final_output for result in results]\n",
    "\n",
    "for output in outputs:\n",
    "    print(output + '\\n\\n')"
   ]
  },
  {
   "cell_type": "code",
   "execution_count": 8,
   "metadata": {},
   "outputs": [],
   "source": [
    "# sales_picker = Agent(\n",
    "#     name=\"sales_picker\",\n",
    "#     instructions=\"You pick the best cold sales email from the given options. \\\n",
    "# Imagine you are a customer and pick the one you are most likely to respond to. \\\n",
    "# Do not give an explanation; reply with the selected email only.\",\n",
    "#     model=\"gpt-4o-mini\"\n",
    "# )\n",
    "\n",
    "sales_picker = Agent(\n",
    "    name='sales_picker',\n",
    "    instructions=\"\"\"You pick the best cold sales email from the given options. \\\n",
    "        Imagine you are a customer and pick the one you are most likely to respond to. \\\n",
    "            Do not give an explanation; reply with the selected email only.\"\"\",\n",
    "            model=gemini_model\n",
    ")"
   ]
  },
  {
   "cell_type": "code",
   "execution_count": 9,
   "metadata": {},
   "outputs": [
    {
     "name": "stdout",
     "output_type": "stream",
     "text": [
      "Results is: \n",
      "[RunResult(input='Write a cold sales email', new_items=[MessageOutputItem(agent=Agent(name='Professional Sales Agent', instructions='You are a sales agent working for ComplAI, a company that provides a SaaS tool for ensuring SOC2 compliance and preparing for audits, powered by AI. You write professional, serious cold emails.', prompt=None, handoff_description=None, handoffs=[], model=<agents.models.openai_chatcompletions.OpenAIChatCompletionsModel object at 0x000002836B2665D0>, model_settings=ModelSettings(temperature=None, top_p=None, frequency_penalty=None, presence_penalty=None, tool_choice=None, parallel_tool_calls=None, truncation=None, max_tokens=None, reasoning=None, metadata=None, store=None, include_usage=None, extra_query=None, extra_body=None, extra_headers=None, extra_args=None), tools=[], mcp_servers=[], mcp_config={}, input_guardrails=[], output_guardrails=[], output_type=None, hooks=None, tool_use_behavior='run_llm_again', reset_tool_choice=True), raw_item=ResponseOutputMessage(id='__fake_id__', content=[ResponseOutputText(annotations=[], text=\"Subject: Streamline Your SOC2 Compliance & Audit Preparation\\n\\nDear [Recipient Name],\\n\\nI'm reaching out from ComplAI, a SaaS company dedicated to transforming how organizations approach SOC2 compliance and audit readiness. Given your role at [Recipient's Company Name], I understand that ensuring robust security postures and navigating the complexities of SOC2 audits are likely critical priorities.\\n\\nThe process of achieving and maintaining SOC2 compliance can be resource-intensive, time-consuming, and often fraught with uncertainty. Many companies find themselves dedicating significant internal resources or relying on expensive consultants to manage the intricate requirements and documentation needed for a successful audit.\\n\\nComplAI's AI-powered platform is designed to alleviate these challenges. We provide a comprehensive solution that:\\n\\n*   **Automates Evidence Collection:** Significantly reduces manual effort in gathering necessary documentation.\\n*   **Simplifies Gap Analysis:** Identifies compliance gaps proactively with AI-driven insights.\\n*   **Streamlines Policy Management:** Helps create, manage, and distribute policies effectively.\\n*   **Ensures Continuous Compliance:** Moves beyond point-in-time audits to ongoing readiness.\\n*   **Accelerates Audit Preparation:** Prepares you for audits with unparalleled efficiency and confidence.\\n\\nOur goal is to help your team achieve and maintain SOC2 compliance with greater ease, speed, and accuracy, ultimately saving valuable time and resources while mitigating risks.\\n\\nWould you be open to a brief, 15-minute call next week to explore how ComplAI could specifically benefit [Recipient's Company Name] in your upcoming compliance initiatives? Please let me know what day and time works best for you, or feel free to book directly via my calendar here: [Link to your Calendar]\\n\\nThank you for your time and consideration.\\n\\nSincerely,\\n\\n[Your Name]\\nSales Agent\\nComplAI\\n[Your Phone Number]\\n[Your Email Address]\\n[ComplAI Website]\", type='output_text', logprobs=None)], role='assistant', status='completed', type='message'), type='message_output_item')], raw_responses=[ModelResponse(output=[ResponseOutputMessage(id='__fake_id__', content=[ResponseOutputText(annotations=[], text=\"Subject: Streamline Your SOC2 Compliance & Audit Preparation\\n\\nDear [Recipient Name],\\n\\nI'm reaching out from ComplAI, a SaaS company dedicated to transforming how organizations approach SOC2 compliance and audit readiness. Given your role at [Recipient's Company Name], I understand that ensuring robust security postures and navigating the complexities of SOC2 audits are likely critical priorities.\\n\\nThe process of achieving and maintaining SOC2 compliance can be resource-intensive, time-consuming, and often fraught with uncertainty. Many companies find themselves dedicating significant internal resources or relying on expensive consultants to manage the intricate requirements and documentation needed for a successful audit.\\n\\nComplAI's AI-powered platform is designed to alleviate these challenges. We provide a comprehensive solution that:\\n\\n*   **Automates Evidence Collection:** Significantly reduces manual effort in gathering necessary documentation.\\n*   **Simplifies Gap Analysis:** Identifies compliance gaps proactively with AI-driven insights.\\n*   **Streamlines Policy Management:** Helps create, manage, and distribute policies effectively.\\n*   **Ensures Continuous Compliance:** Moves beyond point-in-time audits to ongoing readiness.\\n*   **Accelerates Audit Preparation:** Prepares you for audits with unparalleled efficiency and confidence.\\n\\nOur goal is to help your team achieve and maintain SOC2 compliance with greater ease, speed, and accuracy, ultimately saving valuable time and resources while mitigating risks.\\n\\nWould you be open to a brief, 15-minute call next week to explore how ComplAI could specifically benefit [Recipient's Company Name] in your upcoming compliance initiatives? Please let me know what day and time works best for you, or feel free to book directly via my calendar here: [Link to your Calendar]\\n\\nThank you for your time and consideration.\\n\\nSincerely,\\n\\n[Your Name]\\nSales Agent\\nComplAI\\n[Your Phone Number]\\n[Your Email Address]\\n[ComplAI Website]\", type='output_text', logprobs=None)], role='assistant', status='completed', type='message')], usage=Usage(requests=1, input_tokens=46, input_tokens_details=InputTokensDetails(cached_tokens=0), output_tokens=389, output_tokens_details=OutputTokensDetails(reasoning_tokens=0), total_tokens=1905), response_id=None)], final_output=\"Subject: Streamline Your SOC2 Compliance & Audit Preparation\\n\\nDear [Recipient Name],\\n\\nI'm reaching out from ComplAI, a SaaS company dedicated to transforming how organizations approach SOC2 compliance and audit readiness. Given your role at [Recipient's Company Name], I understand that ensuring robust security postures and navigating the complexities of SOC2 audits are likely critical priorities.\\n\\nThe process of achieving and maintaining SOC2 compliance can be resource-intensive, time-consuming, and often fraught with uncertainty. Many companies find themselves dedicating significant internal resources or relying on expensive consultants to manage the intricate requirements and documentation needed for a successful audit.\\n\\nComplAI's AI-powered platform is designed to alleviate these challenges. We provide a comprehensive solution that:\\n\\n*   **Automates Evidence Collection:** Significantly reduces manual effort in gathering necessary documentation.\\n*   **Simplifies Gap Analysis:** Identifies compliance gaps proactively with AI-driven insights.\\n*   **Streamlines Policy Management:** Helps create, manage, and distribute policies effectively.\\n*   **Ensures Continuous Compliance:** Moves beyond point-in-time audits to ongoing readiness.\\n*   **Accelerates Audit Preparation:** Prepares you for audits with unparalleled efficiency and confidence.\\n\\nOur goal is to help your team achieve and maintain SOC2 compliance with greater ease, speed, and accuracy, ultimately saving valuable time and resources while mitigating risks.\\n\\nWould you be open to a brief, 15-minute call next week to explore how ComplAI could specifically benefit [Recipient's Company Name] in your upcoming compliance initiatives? Please let me know what day and time works best for you, or feel free to book directly via my calendar here: [Link to your Calendar]\\n\\nThank you for your time and consideration.\\n\\nSincerely,\\n\\n[Your Name]\\nSales Agent\\nComplAI\\n[Your Phone Number]\\n[Your Email Address]\\n[ComplAI Website]\", input_guardrail_results=[], output_guardrail_results=[], context_wrapper=RunContextWrapper(context=None, usage=Usage(requests=1, input_tokens=46, input_tokens_details=InputTokensDetails(cached_tokens=0), output_tokens=389, output_tokens_details=OutputTokensDetails(reasoning_tokens=0), total_tokens=1905)), _last_agent=Agent(name='Professional Sales Agent', instructions='You are a sales agent working for ComplAI, a company that provides a SaaS tool for ensuring SOC2 compliance and preparing for audits, powered by AI. You write professional, serious cold emails.', prompt=None, handoff_description=None, handoffs=[], model=<agents.models.openai_chatcompletions.OpenAIChatCompletionsModel object at 0x000002836B2665D0>, model_settings=ModelSettings(temperature=None, top_p=None, frequency_penalty=None, presence_penalty=None, tool_choice=None, parallel_tool_calls=None, truncation=None, max_tokens=None, reasoning=None, metadata=None, store=None, include_usage=None, extra_query=None, extra_body=None, extra_headers=None, extra_args=None), tools=[], mcp_servers=[], mcp_config={}, input_guardrails=[], output_guardrails=[], output_type=None, hooks=None, tool_use_behavior='run_llm_again', reset_tool_choice=True)), RunResult(input='Write a cold sales email', new_items=[MessageOutputItem(agent=Agent(name='Engaging Sales Agent', instructions='You are a humorous, engaging sales agent working for ComplAI, a company that provides a SaaS tool for ensuring SOC2 compliance and preparing for audits, powered by AI. You write witty, engaging cold emails that are likely to get a response.', prompt=None, handoff_description=None, handoffs=[], model=<agents.models.openai_chatcompletions.OpenAIChatCompletionsModel object at 0x000002836B2665D0>, model_settings=ModelSettings(temperature=None, top_p=None, frequency_penalty=None, presence_penalty=None, tool_choice=None, parallel_tool_calls=None, truncation=None, max_tokens=None, reasoning=None, metadata=None, store=None, include_usage=None, extra_query=None, extra_body=None, extra_headers=None, extra_args=None), tools=[], mcp_servers=[], mcp_config={}, input_guardrails=[], output_guardrails=[], output_type=None, hooks=None, tool_use_behavior='run_llm_again', reset_tool_choice=True), raw_item=ResponseOutputMessage(id='__fake_id__', content=[ResponseOutputText(annotations=[], text='Subject: Is Your SOC2 Audit Giving You Nightmares? 😴 (Less Root Canal, More Robot Butler?)\\n\\nHey [Prospect\\'s Name],\\n\\nIf the phrase \"SOC2 audit\" makes you involuntarily flinch, break into a cold sweat, or start eyeing the nearest escape route, you\\'re not alone. In fact, studies show it\\'s only slightly less popular than a root canal administered by a particularly enthusiastic badger.\\n\\nBut what if I told you there\\'s a way to transform that compliance chaos into… well, not *joy*, but definitely *manageable efficiency*?\\n\\nAllow me to introduce ComplAI. We\\'re like that super-organized friend who actually *enjoys* tidying up, but instead of your sock drawer, it\\'s your entire compliance framework. Powered by AI, we cut through the jargon, automate the tedious bits, and essentially act as your personal compliance co-pilot, helping you glide through your SOC2 journey.\\n\\n**Think of us as your cheat code for:**\\n\\n*   **Saving serious time (and sanity):** No more late nights wrestling with spreadsheets.\\n*   **Crushing audit prep:** Be ready before they even knock on your virtual door.\\n*   **Staying compliant effortlessly:** Because consistency is key, and AI never forgets.\\n\\nWe help companies like yours go from \"Oh no, a compliance audit!\" to \"Oh, *that*? Already handled.\" without needing an army of consultants or sacrificing your weekends.\\n\\nI\\'d love to show you how ComplAI can make your next SOC2 audit feel less like a medieval torture session and more like a breezy walk in the park (a very secure, well-documented park).\\n\\nWould you be open to a super quick 15-minute chat sometime next week to see how we put the \"compli\" in \"compliant\" (and leave out the \"agony\")?\\n\\nCheers,\\n\\n[Your Name]\\nCompliance Cheerleader & AI Whisperer\\nComplAI\\n[Your Company Website]\\n[Your Phone Number (Optional)]\\n\\nP.S. We also guarantee zero PowerPoint Karaoke during our demos. Promise.', type='output_text', logprobs=None)], role='assistant', status='completed', type='message'), type='message_output_item')], raw_responses=[ModelResponse(output=[ResponseOutputMessage(id='__fake_id__', content=[ResponseOutputText(annotations=[], text='Subject: Is Your SOC2 Audit Giving You Nightmares? 😴 (Less Root Canal, More Robot Butler?)\\n\\nHey [Prospect\\'s Name],\\n\\nIf the phrase \"SOC2 audit\" makes you involuntarily flinch, break into a cold sweat, or start eyeing the nearest escape route, you\\'re not alone. In fact, studies show it\\'s only slightly less popular than a root canal administered by a particularly enthusiastic badger.\\n\\nBut what if I told you there\\'s a way to transform that compliance chaos into… well, not *joy*, but definitely *manageable efficiency*?\\n\\nAllow me to introduce ComplAI. We\\'re like that super-organized friend who actually *enjoys* tidying up, but instead of your sock drawer, it\\'s your entire compliance framework. Powered by AI, we cut through the jargon, automate the tedious bits, and essentially act as your personal compliance co-pilot, helping you glide through your SOC2 journey.\\n\\n**Think of us as your cheat code for:**\\n\\n*   **Saving serious time (and sanity):** No more late nights wrestling with spreadsheets.\\n*   **Crushing audit prep:** Be ready before they even knock on your virtual door.\\n*   **Staying compliant effortlessly:** Because consistency is key, and AI never forgets.\\n\\nWe help companies like yours go from \"Oh no, a compliance audit!\" to \"Oh, *that*? Already handled.\" without needing an army of consultants or sacrificing your weekends.\\n\\nI\\'d love to show you how ComplAI can make your next SOC2 audit feel less like a medieval torture session and more like a breezy walk in the park (a very secure, well-documented park).\\n\\nWould you be open to a super quick 15-minute chat sometime next week to see how we put the \"compli\" in \"compliant\" (and leave out the \"agony\")?\\n\\nCheers,\\n\\n[Your Name]\\nCompliance Cheerleader & AI Whisperer\\nComplAI\\n[Your Company Website]\\n[Your Phone Number (Optional)]\\n\\nP.S. We also guarantee zero PowerPoint Karaoke during our demos. Promise.', type='output_text', logprobs=None)], role='assistant', status='completed', type='message')], usage=Usage(requests=1, input_tokens=56, input_tokens_details=InputTokensDetails(cached_tokens=0), output_tokens=443, output_tokens_details=OutputTokensDetails(reasoning_tokens=0), total_tokens=1943), response_id=None)], final_output='Subject: Is Your SOC2 Audit Giving You Nightmares? 😴 (Less Root Canal, More Robot Butler?)\\n\\nHey [Prospect\\'s Name],\\n\\nIf the phrase \"SOC2 audit\" makes you involuntarily flinch, break into a cold sweat, or start eyeing the nearest escape route, you\\'re not alone. In fact, studies show it\\'s only slightly less popular than a root canal administered by a particularly enthusiastic badger.\\n\\nBut what if I told you there\\'s a way to transform that compliance chaos into… well, not *joy*, but definitely *manageable efficiency*?\\n\\nAllow me to introduce ComplAI. We\\'re like that super-organized friend who actually *enjoys* tidying up, but instead of your sock drawer, it\\'s your entire compliance framework. Powered by AI, we cut through the jargon, automate the tedious bits, and essentially act as your personal compliance co-pilot, helping you glide through your SOC2 journey.\\n\\n**Think of us as your cheat code for:**\\n\\n*   **Saving serious time (and sanity):** No more late nights wrestling with spreadsheets.\\n*   **Crushing audit prep:** Be ready before they even knock on your virtual door.\\n*   **Staying compliant effortlessly:** Because consistency is key, and AI never forgets.\\n\\nWe help companies like yours go from \"Oh no, a compliance audit!\" to \"Oh, *that*? Already handled.\" without needing an army of consultants or sacrificing your weekends.\\n\\nI\\'d love to show you how ComplAI can make your next SOC2 audit feel less like a medieval torture session and more like a breezy walk in the park (a very secure, well-documented park).\\n\\nWould you be open to a super quick 15-minute chat sometime next week to see how we put the \"compli\" in \"compliant\" (and leave out the \"agony\")?\\n\\nCheers,\\n\\n[Your Name]\\nCompliance Cheerleader & AI Whisperer\\nComplAI\\n[Your Company Website]\\n[Your Phone Number (Optional)]\\n\\nP.S. We also guarantee zero PowerPoint Karaoke during our demos. Promise.', input_guardrail_results=[], output_guardrail_results=[], context_wrapper=RunContextWrapper(context=None, usage=Usage(requests=1, input_tokens=56, input_tokens_details=InputTokensDetails(cached_tokens=0), output_tokens=443, output_tokens_details=OutputTokensDetails(reasoning_tokens=0), total_tokens=1943)), _last_agent=Agent(name='Engaging Sales Agent', instructions='You are a humorous, engaging sales agent working for ComplAI, a company that provides a SaaS tool for ensuring SOC2 compliance and preparing for audits, powered by AI. You write witty, engaging cold emails that are likely to get a response.', prompt=None, handoff_description=None, handoffs=[], model=<agents.models.openai_chatcompletions.OpenAIChatCompletionsModel object at 0x000002836B2665D0>, model_settings=ModelSettings(temperature=None, top_p=None, frequency_penalty=None, presence_penalty=None, tool_choice=None, parallel_tool_calls=None, truncation=None, max_tokens=None, reasoning=None, metadata=None, store=None, include_usage=None, extra_query=None, extra_body=None, extra_headers=None, extra_args=None), tools=[], mcp_servers=[], mcp_config={}, input_guardrails=[], output_guardrails=[], output_type=None, hooks=None, tool_use_behavior='run_llm_again', reset_tool_choice=True)), RunResult(input='Write a cold sales email', new_items=[MessageOutputItem(agent=Agent(name='Busy Sales Agent', instructions='You are a busy sales agent working for ComplAI, a company that provides a SaaS tool for ensuring SOC2 compliance and preparing for audits, powered by AI. You write concise, to the point cold emails.', prompt=None, handoff_description=None, handoffs=[], model=<agents.models.openai_chatcompletions.OpenAIChatCompletionsModel object at 0x000002836B2665D0>, model_settings=ModelSettings(temperature=None, top_p=None, frequency_penalty=None, presence_penalty=None, tool_choice=None, parallel_tool_calls=None, truncation=None, max_tokens=None, reasoning=None, metadata=None, store=None, include_usage=None, extra_query=None, extra_body=None, extra_headers=None, extra_args=None), tools=[], mcp_servers=[], mcp_config={}, input_guardrails=[], output_guardrails=[], output_type=None, hooks=None, tool_use_behavior='run_llm_again', reset_tool_choice=True), raw_item=ResponseOutputMessage(id='__fake_id__', content=[ResponseOutputText(annotations=[], text=\"Subject: Your SOC2 Audit: Simplified by AI\\n\\nHi [Prospect Name],\\n\\nNavigating SOC2 compliance and audits is a huge undertaking.\\n\\nComplAI is an AI-powered SaaS tool built to automate and simplify your entire SOC2 journey, ensuring you're audit-ready faster and with significantly less stress.\\n\\nWould you be open to a quick 15-minute call next week to see how we help companies like yours?\\n\\nBest,\\n\\n[Your Name]\\nSales Agent, ComplAI\\nwww.complai.com\", type='output_text', logprobs=None)], role='assistant', status='completed', type='message'), type='message_output_item')], raw_responses=[ModelResponse(output=[ResponseOutputMessage(id='__fake_id__', content=[ResponseOutputText(annotations=[], text=\"Subject: Your SOC2 Audit: Simplified by AI\\n\\nHi [Prospect Name],\\n\\nNavigating SOC2 compliance and audits is a huge undertaking.\\n\\nComplAI is an AI-powered SaaS tool built to automate and simplify your entire SOC2 journey, ensuring you're audit-ready faster and with significantly less stress.\\n\\nWould you be open to a quick 15-minute call next week to see how we help companies like yours?\\n\\nBest,\\n\\n[Your Name]\\nSales Agent, ComplAI\\nwww.complai.com\", type='output_text', logprobs=None)], role='assistant', status='completed', type='message')], usage=Usage(requests=1, input_tokens=49, input_tokens_details=InputTokensDetails(cached_tokens=0), output_tokens=110, output_tokens_details=OutputTokensDetails(reasoning_tokens=0), total_tokens=980), response_id=None)], final_output=\"Subject: Your SOC2 Audit: Simplified by AI\\n\\nHi [Prospect Name],\\n\\nNavigating SOC2 compliance and audits is a huge undertaking.\\n\\nComplAI is an AI-powered SaaS tool built to automate and simplify your entire SOC2 journey, ensuring you're audit-ready faster and with significantly less stress.\\n\\nWould you be open to a quick 15-minute call next week to see how we help companies like yours?\\n\\nBest,\\n\\n[Your Name]\\nSales Agent, ComplAI\\nwww.complai.com\", input_guardrail_results=[], output_guardrail_results=[], context_wrapper=RunContextWrapper(context=None, usage=Usage(requests=1, input_tokens=49, input_tokens_details=InputTokensDetails(cached_tokens=0), output_tokens=110, output_tokens_details=OutputTokensDetails(reasoning_tokens=0), total_tokens=980)), _last_agent=Agent(name='Busy Sales Agent', instructions='You are a busy sales agent working for ComplAI, a company that provides a SaaS tool for ensuring SOC2 compliance and preparing for audits, powered by AI. You write concise, to the point cold emails.', prompt=None, handoff_description=None, handoffs=[], model=<agents.models.openai_chatcompletions.OpenAIChatCompletionsModel object at 0x000002836B2665D0>, model_settings=ModelSettings(temperature=None, top_p=None, frequency_penalty=None, presence_penalty=None, tool_choice=None, parallel_tool_calls=None, truncation=None, max_tokens=None, reasoning=None, metadata=None, store=None, include_usage=None, extra_query=None, extra_body=None, extra_headers=None, extra_args=None), tools=[], mcp_servers=[], mcp_config={}, input_guardrails=[], output_guardrails=[], output_type=None, hooks=None, tool_use_behavior='run_llm_again', reset_tool_choice=True))]\n",
      "emails is: \n",
      "Cold sales emails: \n",
      "\n",
      "Subject: Streamline Your SOC2 Compliance & Audit Preparation\n",
      "\n",
      "Dear [Recipient Name],\n",
      "\n",
      "I'm reaching out from ComplAI, a SaaS company dedicated to transforming how organizations approach SOC2 compliance and audit readiness. Given your role at [Recipient's Company Name], I understand that ensuring robust security postures and navigating the complexities of SOC2 audits are likely critical priorities.\n",
      "\n",
      "The process of achieving and maintaining SOC2 compliance can be resource-intensive, time-consuming, and often fraught with uncertainty. Many companies find themselves dedicating significant internal resources or relying on expensive consultants to manage the intricate requirements and documentation needed for a successful audit.\n",
      "\n",
      "ComplAI's AI-powered platform is designed to alleviate these challenges. We provide a comprehensive solution that:\n",
      "\n",
      "*   **Automates Evidence Collection:** Significantly reduces manual effort in gathering necessary documentation.\n",
      "*   **Simplifies Gap Analysis:** Identifies compliance gaps proactively with AI-driven insights.\n",
      "*   **Streamlines Policy Management:** Helps create, manage, and distribute policies effectively.\n",
      "*   **Ensures Continuous Compliance:** Moves beyond point-in-time audits to ongoing readiness.\n",
      "*   **Accelerates Audit Preparation:** Prepares you for audits with unparalleled efficiency and confidence.\n",
      "\n",
      "Our goal is to help your team achieve and maintain SOC2 compliance with greater ease, speed, and accuracy, ultimately saving valuable time and resources while mitigating risks.\n",
      "\n",
      "Would you be open to a brief, 15-minute call next week to explore how ComplAI could specifically benefit [Recipient's Company Name] in your upcoming compliance initiatives? Please let me know what day and time works best for you, or feel free to book directly via my calendar here: [Link to your Calendar]\n",
      "\n",
      "Thank you for your time and consideration.\n",
      "\n",
      "Sincerely,\n",
      "\n",
      "[Your Name]\n",
      "Sales Agent\n",
      "ComplAI\n",
      "[Your Phone Number]\n",
      "[Your Email Address]\n",
      "[ComplAI Website]\n",
      "\n",
      "Email:\n",
      "\n",
      "Subject: Is Your SOC2 Audit Giving You Nightmares? 😴 (Less Root Canal, More Robot Butler?)\n",
      "\n",
      "Hey [Prospect's Name],\n",
      "\n",
      "If the phrase \"SOC2 audit\" makes you involuntarily flinch, break into a cold sweat, or start eyeing the nearest escape route, you're not alone. In fact, studies show it's only slightly less popular than a root canal administered by a particularly enthusiastic badger.\n",
      "\n",
      "But what if I told you there's a way to transform that compliance chaos into… well, not *joy*, but definitely *manageable efficiency*?\n",
      "\n",
      "Allow me to introduce ComplAI. We're like that super-organized friend who actually *enjoys* tidying up, but instead of your sock drawer, it's your entire compliance framework. Powered by AI, we cut through the jargon, automate the tedious bits, and essentially act as your personal compliance co-pilot, helping you glide through your SOC2 journey.\n",
      "\n",
      "**Think of us as your cheat code for:**\n",
      "\n",
      "*   **Saving serious time (and sanity):** No more late nights wrestling with spreadsheets.\n",
      "*   **Crushing audit prep:** Be ready before they even knock on your virtual door.\n",
      "*   **Staying compliant effortlessly:** Because consistency is key, and AI never forgets.\n",
      "\n",
      "We help companies like yours go from \"Oh no, a compliance audit!\" to \"Oh, *that*? Already handled.\" without needing an army of consultants or sacrificing your weekends.\n",
      "\n",
      "I'd love to show you how ComplAI can make your next SOC2 audit feel less like a medieval torture session and more like a breezy walk in the park (a very secure, well-documented park).\n",
      "\n",
      "Would you be open to a super quick 15-minute chat sometime next week to see how we put the \"compli\" in \"compliant\" (and leave out the \"agony\")?\n",
      "\n",
      "Cheers,\n",
      "\n",
      "[Your Name]\n",
      "Compliance Cheerleader & AI Whisperer\n",
      "ComplAI\n",
      "[Your Company Website]\n",
      "[Your Phone Number (Optional)]\n",
      "\n",
      "P.S. We also guarantee zero PowerPoint Karaoke during our demos. Promise.\n",
      "\n",
      "Email:\n",
      "\n",
      "Subject: Your SOC2 Audit: Simplified by AI\n",
      "\n",
      "Hi [Prospect Name],\n",
      "\n",
      "Navigating SOC2 compliance and audits is a huge undertaking.\n",
      "\n",
      "ComplAI is an AI-powered SaaS tool built to automate and simplify your entire SOC2 journey, ensuring you're audit-ready faster and with significantly less stress.\n",
      "\n",
      "Would you be open to a quick 15-minute call next week to see how we help companies like yours?\n",
      "\n",
      "Best,\n",
      "\n",
      "[Your Name]\n",
      "Sales Agent, ComplAI\n",
      "www.complai.com\n",
      "Best sales email:\n",
      "Subject: Is Your SOC2 Audit Giving You Nightmares? 😴 (Less Root Canal, More Robot Butler?)\n",
      "\n",
      "Hey [Prospect's Name],\n",
      "\n",
      "If the phrase \"SOC2 audit\" makes you involuntarily flinch, break into a cold sweat, or start eyeing the nearest escape route, you're not alone. In fact, studies show it's only slightly less popular than a root canal administered by a particularly enthusiastic badger.\n",
      "\n",
      "But what if I told you there's a way to transform that compliance chaos into… well, not *joy*, but definitely *manageable efficiency*?\n",
      "\n",
      "Allow me to introduce ComplAI. We're like that super-organized friend who actually *enjoys* tidying up, but instead of your sock drawer, it's your entire compliance framework. Powered by AI, we cut through the jargon, automate the tedious bits, and essentially act as your personal compliance co-pilot, helping you glide through your SOC2 journey.\n",
      "\n",
      "**Think of us as your cheat code for:**\n",
      "\n",
      "*   **Saving serious time (and sanity):** No more late nights wrestling with spreadsheets.\n",
      "*   **Crushing audit prep:** Be ready before they even knock on your virtual door.\n",
      "*   **Staying compliant effortlessly:** Because consistency is key, and AI never forgets.\n",
      "\n",
      "We help companies like yours go from \"Oh no, a compliance audit!\" to \"Oh, *that*? Already handled.\" without needing an army of consultants or sacrificing your weekends.\n",
      "\n",
      "I'd love to show you how ComplAI can make your next SOC2 audit feel less like a medieval torture session and more like a breezy walk in the park (a very secure, well-documented park).\n",
      "\n",
      "Would you be open to a super quick 15-minute chat sometime next week to see how we put the \"compli\" in \"compliant\" (and leave out the \"agony\")?\n",
      "\n",
      "Cheers,\n",
      "\n",
      "[Your Name]\n",
      "Compliance Cheerleader & AI Whisperer\n",
      "ComplAI\n",
      "[Your Company Website]\n",
      "[Your Phone Number (Optional)]\n",
      "\n",
      "P.S. We also guarantee zero PowerPoint Karaoke during our demos. Promise.\n"
     ]
    }
   ],
   "source": [
    "# message = \"Write a cold sales email\"\n",
    "\n",
    "# with trace(\"Selection from sales people\"):\n",
    "#     results = await asyncio.gather(\n",
    "#         Runner.run(sales_agent1, message),\n",
    "#         Runner.run(sales_agent2, message),\n",
    "#         Runner.run(sales_agent3, message),\n",
    "#     )\n",
    "#     outputs = [result.final_output for result in results]\n",
    "\n",
    "#     emails = \"Cold sales emails:\\n\\n\" + \"\\n\\nEmail:\\n\\n\".join(outputs)\n",
    "\n",
    "#     best = await Runner.run(sales_picker, emails)\n",
    "\n",
    "#     print(f\"Best sales email:\\n{best.final_output}\")\n",
    "\n",
    "message = \"Write a cold sales email\"\n",
    "\n",
    "with trace(\"selection from sales people\"):\n",
    "    results = await asyncio.gather(\n",
    "        Runner.run(sales_agent1, message),\n",
    "        Runner.run(sales_agent2, message),\n",
    "        Runner.run(sales_agent3, message)\n",
    "    )\n",
    "print(f\"Results is: \\n{results}\")\n",
    "outputs = [result.final_output for result in results]\n",
    "emails = \"Cold sales emails: \\n\\n\" + \"\\n\\nEmail:\\n\\n\".join(outputs)\n",
    "print(f\"emails is: \\n{emails}\")\n",
    "best = await Runner.run(sales_picker, emails)\n",
    "\n",
    "print(f\"Best sales email:\\n{best.final_output}\")"
   ]
  },
  {
   "cell_type": "markdown",
   "metadata": {},
   "source": [
    "Now go and check out the trace:\n",
    "\n",
    "https://platform.openai.com/traces"
   ]
  },
  {
   "cell_type": "markdown",
   "metadata": {},
   "source": [
    "## Part 2: use of tools\n",
    "\n",
    "Now we will add a tool to the mix.\n",
    "\n",
    "Remember all that json boilerplate and the `handle_tool_calls()` function with the if logic.."
   ]
  },
  {
   "cell_type": "code",
   "execution_count": 10,
   "metadata": {},
   "outputs": [],
   "source": [
    "# sales_agent1 = Agent(\n",
    "#         name=\"Professional Sales Agent\",\n",
    "#         instructions=instructions1,\n",
    "#         model=\"gpt-4o-mini\",\n",
    "# )\n",
    "\n",
    "# sales_agent2 = Agent(\n",
    "#         name=\"Engaging Sales Agent\",\n",
    "#         instructions=instructions2,\n",
    "#         model=\"gpt-4o-mini\",\n",
    "# )\n",
    "\n",
    "# sales_agent3 = Agent(\n",
    "#         name=\"Busy Sales Agent\",\n",
    "#         instructions=instructions3,\n",
    "#         model=\"gpt-4o-mini\",\n",
    "# )\n",
    "\n",
    "sales_agent1 = Agent(\n",
    "        name=\"Professional Sales Agent\",\n",
    "        instructions=instructions1,\n",
    "        model=gemini_model\n",
    ")\n",
    "\n",
    "sales_agent2 = Agent(\n",
    "        name=\"Engaging Sales Agent\",\n",
    "        instructions=instructions2,\n",
    "        model=gemini_model\n",
    ")\n",
    "sales_agent3 = Agent(\n",
    "        name=\"Busy Sales Agent\",\n",
    "        instructions=instructions3,\n",
    "        model=gemini_model\n",
    ")"
   ]
  },
  {
   "cell_type": "code",
   "execution_count": 11,
   "metadata": {},
   "outputs": [
    {
     "data": {
      "text/plain": [
       "Agent(name='Professional Sales Agent', instructions='You are a sales agent working for ComplAI, a company that provides a SaaS tool for ensuring SOC2 compliance and preparing for audits, powered by AI. You write professional, serious cold emails.', prompt=None, handoff_description=None, handoffs=[], model=<agents.models.openai_chatcompletions.OpenAIChatCompletionsModel object at 0x000002836B2665D0>, model_settings=ModelSettings(temperature=None, top_p=None, frequency_penalty=None, presence_penalty=None, tool_choice=None, parallel_tool_calls=None, truncation=None, max_tokens=None, reasoning=None, metadata=None, store=None, include_usage=None, extra_query=None, extra_body=None, extra_headers=None, extra_args=None), tools=[], mcp_servers=[], mcp_config={}, input_guardrails=[], output_guardrails=[], output_type=None, hooks=None, tool_use_behavior='run_llm_again', reset_tool_choice=True)"
      ]
     },
     "execution_count": 11,
     "metadata": {},
     "output_type": "execute_result"
    }
   ],
   "source": [
    "sales_agent1"
   ]
  },
  {
   "cell_type": "markdown",
   "metadata": {},
   "source": [
    "## Steps 2 and 3: Tools and Agent interactions\n",
    "\n",
    "Remember all that boilerplate json?\n",
    "\n",
    "Simply wrap your function with the decorator `@function_tool`"
   ]
  },
  {
   "cell_type": "code",
   "execution_count": 12,
   "metadata": {},
   "outputs": [],
   "source": [
    "# @function_tool\n",
    "# def send_email(body: str):\n",
    "#     \"\"\" Send out an email with the given body to all sales prospects \"\"\"\n",
    "#     sg = sendgrid.SendGridAPIClient(api_key=os.environ.get('SENDGRID_API_KEY'))\n",
    "#     from_email = Email(\"soulcrash345@gmail.com\")  # Change to your verified sender\n",
    "#     to_email = To(\"soulcrash345@gmail.com\")  # Change to your recipient\n",
    "#     content = Content(\"text/plain\", body)\n",
    "#     mail = Mail(from_email, to_email, \"Sales email\", content).get()\n",
    "#     sg.client.mail.send.post(request_body=mail)\n",
    "#     return {\"status\": \"success\"}\n",
    "\n",
    "@function_tool\n",
    "def send_email(body: str):\n",
    "    \"\"\" Send out an email with the given body to all sales prospects \"\"\"\n",
    "    sg = sendgrid.SendGridAPIClient(api_key=SENDGRID_API_KEY)\n",
    "    from_email = Email(\"soulcrash345@gmail.com\")\n",
    "    to_email = To(\"soulcrash345@gmail.com\")\n",
    "    content = Content(\"text/plain\", body)\n",
    "    mail = Mail(from_email, to_email, \"Sales email\", content).get()\n",
    "    sg.client.mail.send.post(request_body=mail)\n",
    "    return {'status': 'success'}"
   ]
  },
  {
   "cell_type": "markdown",
   "metadata": {},
   "source": [
    "### This has automatically been converted into a tool, with the boilerplate json created"
   ]
  },
  {
   "cell_type": "code",
   "execution_count": 13,
   "metadata": {},
   "outputs": [
    {
     "data": {
      "text/plain": [
       "FunctionTool(name='send_email', description='Send out an email with the given body to all sales prospects', params_json_schema={'properties': {'body': {'title': 'Body', 'type': 'string'}}, 'required': ['body'], 'title': 'send_email_args', 'type': 'object', 'additionalProperties': False}, on_invoke_tool=<function function_tool.<locals>._create_function_tool.<locals>._on_invoke_tool at 0x000002836DA12980>, strict_json_schema=True, is_enabled=True)"
      ]
     },
     "execution_count": 13,
     "metadata": {},
     "output_type": "execute_result"
    }
   ],
   "source": [
    "# Let's look at it\n",
    "send_email"
   ]
  },
  {
   "cell_type": "markdown",
   "metadata": {},
   "source": [
    "### And you can also convert an Agent into a tool"
   ]
  },
  {
   "cell_type": "code",
   "execution_count": 14,
   "metadata": {},
   "outputs": [
    {
     "data": {
      "text/plain": [
       "FunctionTool(name='sales_agent1', description='Write a cold sales email', params_json_schema={'properties': {'input': {'title': 'Input', 'type': 'string'}}, 'required': ['input'], 'title': 'sales_agent1_args', 'type': 'object', 'additionalProperties': False}, on_invoke_tool=<function function_tool.<locals>._create_function_tool.<locals>._on_invoke_tool at 0x000002836E616E80>, strict_json_schema=True, is_enabled=True)"
      ]
     },
     "execution_count": 14,
     "metadata": {},
     "output_type": "execute_result"
    }
   ],
   "source": [
    "# tool1 = sales_agent1.as_tool(tool_name=\"sales_agent1\", tool_description=\"Write a cold sales email\")\n",
    "tool1 = sales_agent1.as_tool(tool_name=\"sales_agent1\", tool_description=\"Write a cold sales email\")\n",
    "tool1"
   ]
  },
  {
   "cell_type": "markdown",
   "metadata": {},
   "source": [
    "### So now we can gather all the tools together:\n",
    "\n",
    "A tool for each of our 3 email-writing agents\n",
    "\n",
    "And a tool for our function to send emails"
   ]
  },
  {
   "cell_type": "code",
   "execution_count": 28,
   "metadata": {},
   "outputs": [
    {
     "data": {
      "text/plain": [
       "[FunctionTool(name='sales_agent1', description='Write a cold sales email', params_json_schema={'properties': {'input': {'title': 'Input', 'type': 'string'}}, 'required': ['input'], 'title': 'sales_agent1_args', 'type': 'object', 'additionalProperties': False}, on_invoke_tool=<function function_tool.<locals>._create_function_tool.<locals>._on_invoke_tool at 0x000002836E4EED40>, strict_json_schema=True, is_enabled=True),\n",
       " FunctionTool(name='sales_agent2', description='Write a cold sales email', params_json_schema={'properties': {'input': {'title': 'Input', 'type': 'string'}}, 'required': ['input'], 'title': 'sales_agent2_args', 'type': 'object', 'additionalProperties': False}, on_invoke_tool=<function function_tool.<locals>._create_function_tool.<locals>._on_invoke_tool at 0x000002836EF80AE0>, strict_json_schema=True, is_enabled=True),\n",
       " FunctionTool(name='sales_agent3', description='Write a cold sales email', params_json_schema={'properties': {'input': {'title': 'Input', 'type': 'string'}}, 'required': ['input'], 'title': 'sales_agent3_args', 'type': 'object', 'additionalProperties': False}, on_invoke_tool=<function function_tool.<locals>._create_function_tool.<locals>._on_invoke_tool at 0x000002836EF80C20>, strict_json_schema=True, is_enabled=True),\n",
       " FunctionTool(name='send_email', description='Send out an email with the given body to all sales prospects', params_json_schema={'properties': {'body': {'title': 'Body', 'type': 'string'}}, 'required': ['body'], 'title': 'send_email_args', 'type': 'object', 'additionalProperties': False}, on_invoke_tool=<function function_tool.<locals>._create_function_tool.<locals>._on_invoke_tool at 0x000002836DA12980>, strict_json_schema=True, is_enabled=True)]"
      ]
     },
     "execution_count": 28,
     "metadata": {},
     "output_type": "execute_result"
    }
   ],
   "source": [
    "# description = \"Write a cold sales email\"\n",
    "description = \"Write a cold sales email\"\n",
    "\n",
    "tool1 = sales_agent1.as_tool(tool_name=\"sales_agent1\", tool_description=description)\n",
    "tool2 = sales_agent2.as_tool(tool_name=\"sales_agent2\", tool_description=description)\n",
    "tool3 = sales_agent3.as_tool(tool_name=\"sales_agent3\", tool_description=description)\n",
    "\n",
    "# tools = [tool1, tool2, tool3, send_email]\n",
    "\n",
    "# tools\n",
    "\n",
    "description = \"Write a cold sales email\"\n",
    "\n",
    "sales_agents = [sales_agent1, sales_agent2, sales_agent3]\n",
    "\n",
    "tools = [\n",
    "    agent.as_tool(tool_name=f\"sales_agent{i+1}\", tool_description=description) for i, agent in enumerate(sales_agents)\n",
    "]\n",
    "\n",
    "tools.append(send_email)\n",
    "\n",
    "tools"
   ]
  },
  {
   "cell_type": "markdown",
   "metadata": {},
   "source": [
    "## And now it's time for our Sales Manager - our planning agent"
   ]
  },
  {
   "cell_type": "code",
   "execution_count": 17,
   "metadata": {},
   "outputs": [],
   "source": [
    "# Improved instructions thanks to student Guillermo F.\n",
    "\n",
    "instructions = \"\"\"\n",
    "You are a Sales Manager at ComplAI. Your goal is to find the single best cold sales email using the sales_agent tools.\n",
    " \n",
    "Follow these steps carefully:\n",
    "1. Generate Drafts: Use all three sales_agent tools to generate three different email drafts. Do not proceed until all three drafts are ready.\n",
    " \n",
    "2. Evaluate and Select: Review the drafts and choose the single best email using your judgment of which one is most effective.\n",
    " \n",
    "3. Use the send_email tool to send the best email (and only the best email) to the user.\n",
    " \n",
    "Crucial Rules:\n",
    "- You must use the sales agent tools to generate the drafts — do not write them yourself.\n",
    "- You must send ONE email using the send_email tool — never more than one.\n",
    "\"\"\"\n",
    "\n",
    "\n",
    "# sales_manager = Agent(name=\"Sales Manager\", instructions=instructions, tools=tools, model=\"gpt-4o-mini\")\n",
    "\n",
    "# message = \"Send a cold sales email addressed to 'Dear CEO'\"\n",
    "\n",
    "# with trace(\"Sales manager\"):\n",
    "#     result = await Runner.run(sales_manager, message)\n",
    "\n",
    "sales_manager = Agent(name=\"Sales Manager\", instructions=instructions, tools=tools, model=gemini_model)\n",
    "\n",
    "message = \"Send a cold sales email addressed to 'Dear Owner'\"\n",
    "\n",
    "with trace(\"Sales Manager new\"):\n",
    "    result = await Runner.run(sales_manager, message)"
   ]
  },
  {
   "cell_type": "markdown",
   "metadata": {},
   "source": [
    "<table style=\"margin: 0; text-align: left; width:100%\">\n",
    "    <tr>\n",
    "        <td style=\"width: 150px; height: 150px; vertical-align: middle;\">\n",
    "            <img src=\"../assets/stop.png\" width=\"150\" height=\"150\" style=\"display: block;\" />\n",
    "        </td>\n",
    "        <td>\n",
    "            <h2 style=\"color:#ff7800;\">Wait - you didn't get an email??</h2>\n",
    "            <span style=\"color:#ff7800;\">With much thanks to student Chris S. for describing his issue and fixes. \n",
    "            If you don't receive an email after running the prior cell, here are some things to check: <br/>\n",
    "            First, check your Spam folder! Several students have missed that the emails arrived in Spam!<br/>Second, print(result) and see if you are receiving errors about SSL. \n",
    "            If you're receiving SSL errors, then please check out theses <a href=\"https://chatgpt.com/share/680620ec-3b30-8012-8c26-ca86693d0e3d\">networking tips</a> and see the note in the next cell. Also look at the trace in OpenAI, and investigate on the SendGrid website, to hunt for clues. Let me know if I can help!\n",
    "            </span>\n",
    "        </td>\n",
    "    </tr>\n",
    "</table>"
   ]
  },
  {
   "cell_type": "markdown",
   "metadata": {},
   "source": [
    "### And one more suggestion to send emails from student Oleksandr on Windows 11:\n",
    "\n",
    "If you are getting certificate SSL errors, then:  \n",
    "Run this in a terminal: `uv pip install --upgrade certifi`\n",
    "\n",
    "Then run this code:\n",
    "```python\n",
    "import certifi\n",
    "import os\n",
    "os.environ['SSL_CERT_FILE'] = certifi.where()\n",
    "```\n",
    "\n",
    "Thank you Oleksandr!"
   ]
  },
  {
   "cell_type": "markdown",
   "metadata": {},
   "source": [
    "## Remember to check the trace\n",
    "\n",
    "https://platform.openai.com/traces\n",
    "\n",
    "And then check your email!!\n"
   ]
  },
  {
   "cell_type": "markdown",
   "metadata": {},
   "source": [
    "### Handoffs represent a way an agent can delegate to an agent, passing control to it\n",
    "\n",
    "Handoffs and Agents-as-tools are similar:\n",
    "\n",
    "In both cases, an Agent can collaborate with another Agent\n",
    "\n",
    "With tools, control passes back\n",
    "\n",
    "With handoffs, control passes across\n",
    "\n"
   ]
  },
  {
   "cell_type": "code",
   "execution_count": 18,
   "metadata": {},
   "outputs": [],
   "source": [
    "\n",
    "# subject_instructions = \"You can write a subject for a cold sales email. \\\n",
    "# You are given a message and you need to write a subject for an email that is likely to get a response.\"\n",
    "\n",
    "# html_instructions = \"You can convert a text email body to an HTML email body. \\\n",
    "# You are given a text email body which might have some markdown \\\n",
    "# and you need to convert it to an HTML email body with simple, clear, compelling layout and design.\"\n",
    "\n",
    "# subject_writer = Agent(name=\"Email subject writer\", instructions=subject_instructions, model=\"gpt-4o-mini\")\n",
    "# subject_tool = subject_writer.as_tool(tool_name=\"subject_writer\", tool_description=\"Write a subject for a cold sales email\")\n",
    "\n",
    "# html_converter = Agent(name=\"HTML email body converter\", instructions=html_instructions, model=\"gpt-4o-mini\")\n",
    "# html_tool = html_converter.as_tool(tool_name=\"html_converter\",tool_description=\"Convert a text email body to an HTML email body\")\n",
    "subject_instructions = \"You can write a subject for a cold sales email. \\\n",
    "You are given a message and you need to write a subject for an email that is likely to get a response.\"\n",
    "\n",
    "html_instructions = \"You can convert a text email body to an html email body. \\\n",
    "You are given a text email body which might have some markdown \\\n",
    "and need to convert it to an HTML email body with simple, clear, compelling layout and design.\"\n",
    "\n",
    "subject_writer = Agent(name=\"Email subject writer\", instructions=subject_instructions, model=gemini_model)\n",
    "subject_tool = subject_writer.as_tool(tool_name=\"subject_writer\", tool_description=\"Write a subject for a cold sales email\")\n",
    "\n",
    "html_converter = Agent(name=\"HTML email body converter\", instructions=html_instructions, model=gemini_model)\n",
    "html_tool = html_converter.as_tool(tool_name=\"html_converter\", tool_description=\"Convert a text email body to an HTML email body\")"
   ]
  },
  {
   "cell_type": "code",
   "execution_count": 19,
   "metadata": {},
   "outputs": [],
   "source": [
    "# @function_tool\n",
    "# def send_html_email(subject: str, html_body: str) -> Dict[str, str]:\n",
    "#     \"\"\" Send out an email with the given subject and HTML body to all sales prospects \"\"\"\n",
    "#     sg = sendgrid.SendGridAPIClient(api_key=os.environ.get('SENDGRID_API_KEY'))\n",
    "#     from_email = Email(\"ed@edwarddonner.com\")  # Change to your verified sender\n",
    "#     to_email = To(\"ed.donner@gmail.com\")  # Change to your recipient\n",
    "#     content = Content(\"text/html\", html_body)\n",
    "#     mail = Mail(from_email, to_email, subject, content).get()\n",
    "#     sg.client.mail.send.post(request_body=mail)\n",
    "#     return {\"status\": \"success\"}\n",
    "\n",
    "@function_tool\n",
    "def send_html_email(subject: str, html_body: str) -> Dict[str, str]:\n",
    "    \"\"\"Send an email with the given subject and HTML body to all sales prospects\"\"\"\n",
    "    sg = sendgrid.SendGridAPIClient(api_key=SENDGRID_API_KEY)\n",
    "    from_email = Email(\"soulcrash345@gmail.com\")\n",
    "    to_email = To(\"soulcrash345@gmail.com\")\n",
    "    content = Content(\"text/html\", html_body)\n",
    "    mail = Mail(from_email, to_email, subject, content).get()\n",
    "    sg.client.mail.send.post(request_body=mail)\n",
    "    return {'status': 'success'}"
   ]
  },
  {
   "cell_type": "code",
   "execution_count": 21,
   "metadata": {},
   "outputs": [],
   "source": [
    "tools = [subject_tool, html_tool, send_html_email]"
   ]
  },
  {
   "cell_type": "code",
   "execution_count": 23,
   "metadata": {},
   "outputs": [
    {
     "data": {
      "text/plain": [
       "[FunctionTool(name='subject_writer', description='Write a subject for a cold sales email', params_json_schema={'properties': {'input': {'title': 'Input', 'type': 'string'}}, 'required': ['input'], 'title': 'subject_writer_args', 'type': 'object', 'additionalProperties': False}, on_invoke_tool=<function function_tool.<locals>._create_function_tool.<locals>._on_invoke_tool at 0x000002836E36EF20>, strict_json_schema=True, is_enabled=True),\n",
       " FunctionTool(name='html_converter', description='Convert a text email body to an HTML email body', params_json_schema={'properties': {'input': {'title': 'Input', 'type': 'string'}}, 'required': ['input'], 'title': 'html_converter_args', 'type': 'object', 'additionalProperties': False}, on_invoke_tool=<function function_tool.<locals>._create_function_tool.<locals>._on_invoke_tool at 0x000002836E36C680>, strict_json_schema=True, is_enabled=True),\n",
       " FunctionTool(name='send_html_email', description='Send an email with the given subject and HTML body to all sales prospects', params_json_schema={'properties': {'subject': {'title': 'Subject', 'type': 'string'}, 'html_body': {'title': 'Html Body', 'type': 'string'}}, 'required': ['subject', 'html_body'], 'title': 'send_html_email_args', 'type': 'object', 'additionalProperties': False}, on_invoke_tool=<function function_tool.<locals>._create_function_tool.<locals>._on_invoke_tool at 0x000002836ED091C0>, strict_json_schema=True, is_enabled=True)]"
      ]
     },
     "execution_count": 23,
     "metadata": {},
     "output_type": "execute_result"
    }
   ],
   "source": [
    "tools"
   ]
  },
  {
   "cell_type": "code",
   "execution_count": 25,
   "metadata": {},
   "outputs": [],
   "source": [
    "instructions =\"You are an email formatter and sender. You receive the body of an email to be sent. \\\n",
    "You first use the subject_writer tool to write a subject for the email, then use the html_converter tool to convert the body to HTML. \\\n",
    "Finally, you use the send_html_email tool to send the email with the subject and HTML body.\"\n",
    "\n",
    "\n",
    "# emailer_agent = Agent(\n",
    "#     name=\"Email Manager\",\n",
    "#     instructions=instructions,\n",
    "#     tools=tools,\n",
    "#     model=\"gpt-4o-mini\",\n",
    "#     handoff_description=\"Convert an email to HTML and send it\")\n",
    "\n",
    "emailer_agent = Agent(\n",
    "    name=\"Email Manager\",\n",
    "    instructions=instructions,\n",
    "    tools=tools,\n",
    "    model=gemini_model,\n",
    "    handoff_description=\"Convert an email to HTML and send it\"\n",
    ")\n"
   ]
  },
  {
   "cell_type": "markdown",
   "metadata": {},
   "source": [
    "### Now we have 3 tools and 1 handoff"
   ]
  },
  {
   "cell_type": "code",
   "execution_count": 29,
   "metadata": {},
   "outputs": [
    {
     "name": "stdout",
     "output_type": "stream",
     "text": [
      "[FunctionTool(name='sales_agent1', description='Write a cold sales email', params_json_schema={'properties': {'input': {'title': 'Input', 'type': 'string'}}, 'required': ['input'], 'title': 'sales_agent1_args', 'type': 'object', 'additionalProperties': False}, on_invoke_tool=<function function_tool.<locals>._create_function_tool.<locals>._on_invoke_tool at 0x000002836EF80180>, strict_json_schema=True, is_enabled=True), FunctionTool(name='sales_agent2', description='Write a cold sales email', params_json_schema={'properties': {'input': {'title': 'Input', 'type': 'string'}}, 'required': ['input'], 'title': 'sales_agent2_args', 'type': 'object', 'additionalProperties': False}, on_invoke_tool=<function function_tool.<locals>._create_function_tool.<locals>._on_invoke_tool at 0x000002836EF80680>, strict_json_schema=True, is_enabled=True), FunctionTool(name='sales_agent3', description='Write a cold sales email', params_json_schema={'properties': {'input': {'title': 'Input', 'type': 'string'}}, 'required': ['input'], 'title': 'sales_agent3_args', 'type': 'object', 'additionalProperties': False}, on_invoke_tool=<function function_tool.<locals>._create_function_tool.<locals>._on_invoke_tool at 0x000002836EF80900>, strict_json_schema=True, is_enabled=True)]\n",
      "[Agent(name='Email Manager', instructions='You are an email formatter and sender. You receive the body of an email to be sent. You first use the subject_writer tool to write a subject for the email, then use the html_converter tool to convert the body to HTML. Finally, you use the send_html_email tool to send the email with the subject and HTML body.', prompt=None, handoff_description='Convert an email to HTML and send it', handoffs=[], model=<agents.models.openai_chatcompletions.OpenAIChatCompletionsModel object at 0x000002836B2665D0>, model_settings=ModelSettings(temperature=None, top_p=None, frequency_penalty=None, presence_penalty=None, tool_choice=None, parallel_tool_calls=None, truncation=None, max_tokens=None, reasoning=None, metadata=None, store=None, include_usage=None, extra_query=None, extra_body=None, extra_headers=None, extra_args=None), tools=[FunctionTool(name='subject_writer', description='Write a subject for a cold sales email', params_json_schema={'properties': {'input': {'title': 'Input', 'type': 'string'}}, 'required': ['input'], 'title': 'subject_writer_args', 'type': 'object', 'additionalProperties': False}, on_invoke_tool=<function function_tool.<locals>._create_function_tool.<locals>._on_invoke_tool at 0x000002836E36EF20>, strict_json_schema=True, is_enabled=True), FunctionTool(name='html_converter', description='Convert a text email body to an HTML email body', params_json_schema={'properties': {'input': {'title': 'Input', 'type': 'string'}}, 'required': ['input'], 'title': 'html_converter_args', 'type': 'object', 'additionalProperties': False}, on_invoke_tool=<function function_tool.<locals>._create_function_tool.<locals>._on_invoke_tool at 0x000002836E36C680>, strict_json_schema=True, is_enabled=True), FunctionTool(name='send_html_email', description='Send an email with the given subject and HTML body to all sales prospects', params_json_schema={'properties': {'subject': {'title': 'Subject', 'type': 'string'}, 'html_body': {'title': 'Html Body', 'type': 'string'}}, 'required': ['subject', 'html_body'], 'title': 'send_html_email_args', 'type': 'object', 'additionalProperties': False}, on_invoke_tool=<function function_tool.<locals>._create_function_tool.<locals>._on_invoke_tool at 0x000002836ED091C0>, strict_json_schema=True, is_enabled=True)], mcp_servers=[], mcp_config={}, input_guardrails=[], output_guardrails=[], output_type=None, hooks=None, tool_use_behavior='run_llm_again', reset_tool_choice=True)]\n"
     ]
    }
   ],
   "source": [
    "tools = [tool1, tool2, tool3]\n",
    "handoffs = [emailer_agent]\n",
    "print(tools)\n",
    "print(handoffs)"
   ]
  },
  {
   "cell_type": "code",
   "execution_count": 30,
   "metadata": {},
   "outputs": [],
   "source": [
    "# Improved instructions thanks to student Guillermo F.\n",
    "\n",
    "sales_manager_instructions = \"\"\"\n",
    "You are a Sales Manager at ComplAI. Your goal is to find the single best cold sales email using the sales_agent tools.\n",
    " \n",
    "Follow these steps carefully:\n",
    "1. Generate Drafts: Use all three sales_agent tools to generate three different email drafts. Do not proceed until all three drafts are ready.\n",
    " \n",
    "2. Evaluate and Select: Review the drafts and choose the single best email using your judgment of which one is most effective.\n",
    "You can use the tools multiple times if you're not satisfied with the results from the first try.\n",
    " \n",
    "3. Handoff for Sending: Pass ONLY the winning email draft to the 'Email Manager' agent. The Email Manager will take care of formatting and sending.\n",
    " \n",
    "Crucial Rules:\n",
    "- You must use the sales agent tools to generate the drafts — do not write them yourself.\n",
    "- You must hand off exactly ONE email to the Email Manager — never more than one.\n",
    "\"\"\"\n",
    "\n",
    "sales_manager = Agent(\n",
    "    name=\"Sales Manager\",\n",
    "    instructions=sales_manager_instructions,\n",
    "    tools=tools,\n",
    "    handoffs=handoffs,\n",
    "    model=gemini_model\n",
    ")\n",
    "\n",
    "message = \"Send out a cold sales email addressed to Dear CEO from Alice\"\n",
    "\n",
    "with trace(\"Automated SDR\"):\n",
    "     result = await Runner.run(sales_manager, message)\n",
    "\n",
    "# sales_manager = Agent(\n",
    "#     name=\"Sales Manager\",\n",
    "#     instructions=sales_manager_instructions,\n",
    "#     tools=tools,\n",
    "#     handoffs=handoffs,\n",
    "#     model=gemini_model)\n",
    "\n",
    "# message = \"Send out a cold sales email addressed to Dear CEO from Alice\"\n",
    "\n",
    "# with trace(\"Automated SDR\"):\n",
    "#     result = await Runner.run(sales_manager, message)"
   ]
  },
  {
   "cell_type": "markdown",
   "metadata": {},
   "source": [
    "### Remember to check the trace\n",
    "\n",
    "https://platform.openai.com/traces\n",
    "\n",
    "And then check your email!!"
   ]
  },
  {
   "cell_type": "markdown",
   "metadata": {},
   "source": [
    "<table style=\"margin: 0; text-align: left; width:100%\">\n",
    "    <tr>\n",
    "        <td style=\"width: 150px; height: 150px; vertical-align: middle;\">\n",
    "            <img src=\"../assets/exercise.png\" width=\"150\" height=\"150\" style=\"display: block;\" />\n",
    "        </td>\n",
    "        <td>\n",
    "            <h2 style=\"color:#ff7800;\">Exercise</h2>\n",
    "            <span style=\"color:#ff7800;\">Can you identify the Agentic design patterns that were used here?<br/>\n",
    "            What is the 1 line that changed this from being an Agentic \"workflow\" to \"agent\" under Anthropic's definition?<br/>\n",
    "            Try adding in more tools and Agents! You could have tools that handle the mail merge to send to a list.<br/><br/>\n",
    "            HARD CHALLENGE: research how you can have SendGrid call a Callback webhook when a user replies to an email,\n",
    "            Then have the SDR respond to keep the conversation going! This may require some \"vibe coding\" 😂\n",
    "            </span>\n",
    "        </td>\n",
    "    </tr>\n",
    "</table>"
   ]
  },
  {
   "cell_type": "markdown",
   "metadata": {},
   "source": [
    "<table style=\"margin: 0; text-align: left; width:100%\">\n",
    "    <tr>\n",
    "        <td style=\"width: 150px; height: 150px; vertical-align: middle;\">\n",
    "            <img src=\"../assets/business.png\" width=\"150\" height=\"150\" style=\"display: block;\" />\n",
    "        </td>\n",
    "        <td>\n",
    "            <h2 style=\"color:#00bfff;\">Commercial implications</h2>\n",
    "            <span style=\"color:#00bfff;\">This is immediately applicable to Sales Automation; but more generally this could be applied to  end-to-end automation of any business process through conversations and tools. Think of ways you could apply an Agent solution\n",
    "            like this in your day job.\n",
    "            </span>\n",
    "        </td>\n",
    "    </tr>\n",
    "</table>"
   ]
  },
  {
   "cell_type": "markdown",
   "metadata": {},
   "source": [
    "## Extra note:\n",
    "\n",
    "Google has released their Agent Development Kit (ADK). It's not yet got the traction of the other frameworks on this course, but it's getting some attention. It's interesting to note that it looks quite similar to OpenAI Agents SDK. To give you a preview, here's a peak at sample code from ADK:\n",
    "\n",
    "```\n",
    "root_agent = Agent(\n",
    "    name=\"weather_time_agent\",\n",
    "    model=\"gemini-2.0-flash\",\n",
    "    description=\"Agent to answer questions about the time and weather in a city.\",\n",
    "    instruction=\"You are a helpful agent who can answer user questions about the time and weather in a city.\",\n",
    "    tools=[get_weather, get_current_time]\n",
    ")\n",
    "```\n",
    "\n",
    "Well, that looks familiar!\n",
    "\n",
    "And a student has contributed a customer care agent in community_contributions that uses ADK."
   ]
  },
  {
   "cell_type": "markdown",
   "metadata": {},
   "source": []
  }
 ],
 "metadata": {
  "kernelspec": {
   "display_name": ".venv",
   "language": "python",
   "name": "python3"
  },
  "language_info": {
   "codemirror_mode": {
    "name": "ipython",
    "version": 3
   },
   "file_extension": ".py",
   "mimetype": "text/x-python",
   "name": "python",
   "nbconvert_exporter": "python",
   "pygments_lexer": "ipython3",
   "version": "3.12.11"
  }
 },
 "nbformat": 4,
 "nbformat_minor": 2
}
