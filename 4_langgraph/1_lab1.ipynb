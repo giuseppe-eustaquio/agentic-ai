{
 "cells": [
  {
   "cell_type": "markdown",
   "metadata": {},
   "source": [
    "## Welcome back to Python Notebooks!\n",
    "\n",
    "Didja miss me??\n",
    "\n",
    "### And welcome to Week 4, Day 2 - introducing LangGraph!"
   ]
  },
  {
   "cell_type": "code",
   "execution_count": 1,
   "metadata": {},
   "outputs": [],
   "source": [
    "# from typing import Annotated\n",
    "# from langgraph.graph import StateGraph, START, END\n",
    "# from langgraph.graph.message import add_messages\n",
    "# from dotenv import load_dotenv\n",
    "# from IPython.display import Image, display\n",
    "# import gradio as gr\n",
    "# from langgraph.graph import StateGraph\n",
    "# from langgraph.graph.message import add_messages\n",
    "# from langchain_openai import ChatOpenAI\n",
    "# from pydantic import BaseModel\n",
    "# import random\n",
    "\n",
    "from typing import Annotated\n",
    "from langgraph.graph import StateGraph, START, END\n",
    "from langgraph.graph.message import add_messages\n",
    "from dotenv import load_dotenv\n",
    "from IPython.display import Image, display\n",
    "import gradio as gr\n",
    "from langchain_openai import ChatOpenAI\n",
    "from pydantic import BaseModel\n",
    "import random"
   ]
  },
  {
   "cell_type": "code",
   "execution_count": 2,
   "metadata": {},
   "outputs": [],
   "source": [
    "# Some useful constants\n",
    "\n",
    "nouns = [\"Cabbages\", \"Unicorns\", \"Toasters\", \"Penguins\", \"Bananas\", \"Zombies\", \"Rainbows\", \"Eels\", \"Pickles\", \"Muffins\"]\n",
    "adjectives = [\"outrageous\", \"smelly\", \"pedantic\", \"existential\", \"moody\", \"sparkly\", \"untrustworthy\", \"sarcastic\", \"squishy\", \"haunted\"]"
   ]
  },
  {
   "cell_type": "code",
   "execution_count": 3,
   "metadata": {},
   "outputs": [
    {
     "data": {
      "text/plain": [
       "True"
      ]
     },
     "execution_count": 3,
     "metadata": {},
     "output_type": "execute_result"
    }
   ],
   "source": [
    "# Our favorite first step! Crew was doing this for us, by the way.\n",
    "load_dotenv(override=True)\n"
   ]
  },
  {
   "cell_type": "code",
   "execution_count": null,
   "metadata": {},
   "outputs": [
    {
     "name": "stdout",
     "output_type": "stream",
     "text": [
      "ABCD\n"
     ]
    },
    {
     "data": {
      "text/plain": [
       "'abcd'"
      ]
     },
     "execution_count": 6,
     "metadata": {},
     "output_type": "execute_result"
    }
   ],
   "source": [
    "# def shout(text: Annotated[str, \"something to be shouted\"]) -> str:\n",
    "#     print(text.upper())\n",
    "#     return text.upper()\n",
    "\n",
    "# shout(\"hello\")\n",
    "\n",
    "def shout(text: Annotated[str, \"something to be shouted\"]) -> str:\n",
    "    print(text.upper())\n",
    "    return text\n",
    "    \n",
    "shout('abcd')"
   ]
  },
  {
   "cell_type": "markdown",
   "metadata": {},
   "source": [
    "### A word about \"Annotated\"\n",
    "\n",
    "You probably know this; type hinting is a feature in Python that lets you specify the type of something:\n",
    "\n",
    "`my_favorite_things: List`\n",
    "\n",
    "But you may not know this:\n",
    "\n",
    "You can also use something called \"Annotated\" to add extra information that somebody else might find useful:\n",
    "\n",
    "`my_favorite_things: Annotated[List, \"these are a few of mine\"]`\n",
    "\n",
    "LangGraph needs us to use this feature when we define our State object.\n",
    "\n",
    "It wants us to tell it what function it should call to update the State with a new value.\n",
    "\n",
    "This function is called a **reducer**.\n",
    "\n",
    "LangGraph provides a default reducer called `add_messages` which takes care of the most common case.\n",
    "\n",
    "And that hopefully explains why the State looks like this.\n",
    "\n",
    "\n"
   ]
  },
  {
   "cell_type": "markdown",
   "metadata": {},
   "source": [
    "### Step 1: Define the State object\n",
    "\n",
    "You can use any python object; but it's most common to use a TypedDict or a Pydantic BaseModel."
   ]
  },
  {
   "cell_type": "code",
   "execution_count": 7,
   "metadata": {},
   "outputs": [],
   "source": [
    "\n",
    "# class State(BaseModel):\n",
    "        \n",
    "#     messages: Annotated[list, add_messages]\n",
    "\n",
    "class State(BaseModel):\n",
    "\n",
    "    messages: Annotated[list, add_messages]\n"
   ]
  },
  {
   "cell_type": "markdown",
   "metadata": {},
   "source": [
    "### Step 2: Start the Graph Builder with this State class"
   ]
  },
  {
   "cell_type": "code",
   "execution_count": 8,
   "metadata": {},
   "outputs": [],
   "source": [
    "# graph_builder = StateGraph(State)\n",
    "\n",
    "graph_builder = StateGraph(State)"
   ]
  },
  {
   "cell_type": "markdown",
   "metadata": {},
   "source": [
    "### Step 3: Create a Node\n",
    "\n",
    "A node can be any python function.\n",
    "\n",
    "The reducer that we set before gets automatically called to combine this response with previous responses\n"
   ]
  },
  {
   "cell_type": "code",
   "execution_count": 9,
   "metadata": {},
   "outputs": [
    {
     "data": {
      "text/plain": [
       "<langgraph.graph.state.StateGraph at 0x200bc9d2090>"
      ]
     },
     "execution_count": 9,
     "metadata": {},
     "output_type": "execute_result"
    }
   ],
   "source": [
    "# def our_first_node(old_state: State) -> State:\n",
    "\n",
    "#     reply = f\"{random.choice(nouns)} are {random.choice(adjectives)}\"\n",
    "#     messages = [{\"role\": \"assistant\", \"content\": reply}]\n",
    "\n",
    "#     new_state = State(messages=messages)\n",
    "\n",
    "#     return new_state\n",
    "\n",
    "# graph_builder.add_node(\"first_node\", our_first_node)\n",
    "\n",
    "def our_first_node(old_state: State) -> State:\n",
    "\n",
    "    reply = f\"{random.choice(nouns)} are {random.choice(adjectives)}\"\n",
    "    messages = [{\"role\": \"assistant\", \"content\": reply}]\n",
    "\n",
    "    new_state = State(messages=messages)\n",
    "\n",
    "    return new_state\n",
    "\n",
    "graph_builder.add_node(\"first_node\", our_first_node)"
   ]
  },
  {
   "cell_type": "markdown",
   "metadata": {},
   "source": [
    "### Step 4: Create Edges"
   ]
  },
  {
   "cell_type": "code",
   "execution_count": 10,
   "metadata": {},
   "outputs": [
    {
     "data": {
      "text/plain": [
       "<langgraph.graph.state.StateGraph at 0x200bc9d2090>"
      ]
     },
     "execution_count": 10,
     "metadata": {},
     "output_type": "execute_result"
    }
   ],
   "source": [
    "# graph_builder.add_edge(START, \"first_node\")\n",
    "# graph_builder.add_edge(\"first_node\", END)\n",
    "\n",
    "graph_builder.add_edge(START, \"first_node\")\n",
    "graph_builder.add_edge(\"first_node\", END)"
   ]
  },
  {
   "cell_type": "markdown",
   "metadata": {},
   "source": [
    "### Step 5: Compile the Graph"
   ]
  },
  {
   "cell_type": "code",
   "execution_count": 11,
   "metadata": {},
   "outputs": [],
   "source": [
    "# graph = graph_builder.compile()\n",
    "graph = graph_builder.compile()"
   ]
  },
  {
   "cell_type": "code",
   "execution_count": 12,
   "metadata": {},
   "outputs": [
    {
     "data": {
      "image/png": "[encoded data removed]",
      "text/plain": [
       "<IPython.core.display.Image object>"
      ]
     },
     "metadata": {},
     "output_type": "display_data"
    }
   ],
   "source": [
    "# display(Image(graph.get_graph().draw_mermaid_png()))\n",
    "display(Image(graph.get_graph().draw_mermaid_png()))"
   ]
  },
  {
   "cell_type": "markdown",
   "metadata": {},
   "source": [
    "### That's it! Showtime!"
   ]
  },
  {
   "cell_type": "code",
   "execution_count": null,
   "metadata": {},
   "outputs": [
    {
     "name": "stdout",
     "output_type": "stream",
     "text": [
      "* Running on local URL:  http://127.0.0.1:7860\n",
      "* To create a public link, set `share=True` in `launch()`.\n"
     ]
    },
    {
     "data": {
      "text/html": [
       "<div><iframe src=\"http://127.0.0.1:7860/\" width=\"100%\" height=\"500\" allow=\"autoplay; camera; microphone; clipboard-read; clipboard-write;\" frameborder=\"0\" allowfullscreen></iframe></div>"
      ],
      "text/plain": [
       "<IPython.core.display.HTML object>"
      ]
     },
     "metadata": {},
     "output_type": "display_data"
    },
    {
     "data": {
      "text/plain": []
     },
     "execution_count": 14,
     "metadata": {},
     "output_type": "execute_result"
    },
    {
     "name": "stdout",
     "output_type": "stream",
     "text": [
      "{'messages': [HumanMessage(content='hi', additional_kwargs={}, response_metadata={}, id='746caa54-7e6d-432b-8628-96e0225e0847'), AIMessage(content='Zombies are sarcastic', additional_kwargs={}, response_metadata={}, id='3e75bffb-5551-4408-b2fc-c61678f6cf07')]}\n",
      "{'messages': [HumanMessage(content='what', additional_kwargs={}, response_metadata={}, id='da6a333c-f458-4ae7-8700-9502e6ad430a'), AIMessage(content='Muffins are squishy', additional_kwargs={}, response_metadata={}, id='1e639a31-c7e8-4448-9361-a7150721d9e5')]}\n",
      "{'messages': [HumanMessage(content='what', additional_kwargs={}, response_metadata={}, id='c8ff180a-0f82-4da0-b40a-3be4ccc76bd7'), AIMessage(content='Bananas are haunted', additional_kwargs={}, response_metadata={}, id='09a90f78-73ed-4858-954c-04d1fd401d8f')]}\n",
      "{'messages': [HumanMessage(content='what', additional_kwargs={}, response_metadata={}, id='451cdda0-a566-47a5-b1b0-6b2ad556db11'), AIMessage(content='Rainbows are squishy', additional_kwargs={}, response_metadata={}, id='44ca68e7-ea8b-4ec0-911d-2a11a478eb1a')]}\n",
      "{'messages': [HumanMessage(content='what', additional_kwargs={}, response_metadata={}, id='9e28f44a-1741-401a-885e-3fb1d0132d11'), AIMessage(content='Bananas are smelly', additional_kwargs={}, response_metadata={}, id='f409f681-6fb8-4a49-b717-c7c03e82ce41')]}\n",
      "{'messages': [HumanMessage(content='what', additional_kwargs={}, response_metadata={}, id='23928210-b8a2-47d1-ab20-182f5cb2c056'), AIMessage(content='Toasters are moody', additional_kwargs={}, response_metadata={}, id='94e121e9-1c42-42d1-84bd-7597d1ec9c12')]}\n",
      "{'messages': [HumanMessage(content='what', additional_kwargs={}, response_metadata={}, id='3eeb51f1-3cf3-40d0-b2d9-b6c026821091'), AIMessage(content='Pickles are squishy', additional_kwargs={}, response_metadata={}, id='3491c2ac-547a-4023-a157-5efc47c53ca5')]}\n",
      "{'messages': [HumanMessage(content='woah', additional_kwargs={}, response_metadata={}, id='26fd2722-d47b-4fa4-bca1-872a028a57ca'), AIMessage(content='Eels are moody', additional_kwargs={}, response_metadata={}, id='ff172704-6ca5-40d8-9160-0c2ca4fbc61d')]}\n"
     ]
    }
   ],
   "source": [
    "# def chat(user_input: str, history):\n",
    "#     message = {\"role\": \"user\", \"content\": user_input}\n",
    "#     messages = [message]\n",
    "#     state = State(messages=messages)\n",
    "#     result = graph.invoke(state)\n",
    "#     print(result)\n",
    "#     return result[\"messages\"][-1].content\n",
    "\n",
    "\n",
    "# gr.ChatInterface(chat, type=\"messages\").launch()\n",
    "\n",
    "def chat(user_input: str, history):\n",
    "    message = {\"role\": \"user\", \"content\": user_input}\n",
    "    messages = [message]\n",
    "    state = State(messages=messages)\n",
    "    result = graph.invoke(state)\n",
    "    print(result)\n",
    "    return result[\"messages\"][-1].content\n",
    "\n",
    "gr.ChatInterface(chat, type=\"messages\").launch()\n"
   ]
  },
  {
   "cell_type": "markdown",
   "metadata": {},
   "source": [
    "### But why did I show you that?\n",
    "\n",
    "To make the point that LangGraph is all about python functions - it doesn't need to involve LLMs!!\n",
    "\n",
    "Now we'll do the 5 steps again, but in 1 shot:"
   ]
  },
  {
   "cell_type": "code",
   "execution_count": 15,
   "metadata": {},
   "outputs": [],
   "source": [
    "# Step 1: Define the State object\n",
    "# class State(BaseModel):\n",
    "#     messages: Annotated[list, add_messages]\n",
    "\n",
    "class State(BaseModel):\n",
    "    messages: Annotated[list, add_messages]\n"
   ]
  },
  {
   "cell_type": "code",
   "execution_count": 16,
   "metadata": {},
   "outputs": [],
   "source": [
    "# Step 2: Start the Graph Builder with this State class\n",
    "# graph_builder = StateGraph(State)\n",
    "graph_builder = StateGraph(State)\n"
   ]
  },
  {
   "cell_type": "code",
   "execution_count": 17,
   "metadata": {},
   "outputs": [
    {
     "data": {
      "text/plain": [
       "<langgraph.graph.state.StateGraph at 0x200bf7cf950>"
      ]
     },
     "execution_count": 17,
     "metadata": {},
     "output_type": "execute_result"
    }
   ],
   "source": [
    "# Step 3: Create a Node\n",
    "\n",
    "# llm = ChatOpenAI(model=\"gpt-4o-mini\")\n",
    "\n",
    "# def chatbot_node(old_state: State) -> State:\n",
    "#     response = llm.invoke(old_state.messages)\n",
    "#     new_state = State(messages=[response])\n",
    "#     return new_state\n",
    "\n",
    "# graph_builder.add_node(\"chatbot\", chatbot_node)\n",
    "\n",
    "llm = ChatOpenAI(model=\"gpt-4o-mini\")\n",
    "\n",
    "def chatbot_node(old_state: State) -> State:\n",
    "    response = llm.invoke(old_state.messages)\n",
    "    new_state = State(messages=[response])\n",
    "    return new_state\n",
    "\n",
    "graph_builder.add_node(\"chatbot\", chatbot_node)"
   ]
  },
  {
   "cell_type": "code",
   "execution_count": 18,
   "metadata": {},
   "outputs": [
    {
     "data": {
      "text/plain": [
       "<langgraph.graph.state.StateGraph at 0x200bf7cf950>"
      ]
     },
     "execution_count": 18,
     "metadata": {},
     "output_type": "execute_result"
    }
   ],
   "source": [
    "# Step 4: Create Edges\n",
    "# graph_builder.add_edge(START, \"chatbot\")\n",
    "# graph_builder.add_edge(\"chatbot\", END)\n",
    "\n",
    "graph_builder.add_edge(START, \"chatbot\")\n",
    "graph_builder.add_edge(\"chatbot\", END)"
   ]
  },
  {
   "cell_type": "code",
   "execution_count": 19,
   "metadata": {},
   "outputs": [
    {
     "data": {
      "image/png": "[encoded data removed]",
      "text/plain": [
       "<IPython.core.display.Image object>"
      ]
     },
     "metadata": {},
     "output_type": "display_data"
    }
   ],
   "source": [
    "# Step 5: Compile the Graph\n",
    "# graph = graph_builder.compile()\n",
    "# display(Image(graph.get_graph().draw_mermaid_png()))\n",
    "\n",
    "graph = graph_builder.compile()\n",
    "display(Image(graph.get_graph().draw_mermaid_png()))"
   ]
  },
  {
   "cell_type": "markdown",
   "metadata": {},
   "source": [
    "### That's it! And, let's do this:"
   ]
  },
  {
   "cell_type": "code",
   "execution_count": null,
   "metadata": {},
   "outputs": [
    {
     "name": "stdout",
     "output_type": "stream",
     "text": [
      "* Running on local URL:  http://127.0.0.1:7861\n",
      "* To create a public link, set `share=True` in `launch()`.\n"
     ]
    },
    {
     "data": {
      "text/html": [
       "<div><iframe src=\"http://127.0.0.1:7861/\" width=\"100%\" height=\"500\" allow=\"autoplay; camera; microphone; clipboard-read; clipboard-write;\" frameborder=\"0\" allowfullscreen></iframe></div>"
      ],
      "text/plain": [
       "<IPython.core.display.HTML object>"
      ]
     },
     "metadata": {},
     "output_type": "display_data"
    },
    {
     "data": {
      "text/plain": []
     },
     "execution_count": 20,
     "metadata": {},
     "output_type": "execute_result"
    },
    {
     "name": "stdout",
     "output_type": "stream",
     "text": [
      "{'messages': [HumanMessage(content='hello', additional_kwargs={}, response_metadata={}, id='d670efbf-c2d0-467e-b1d4-86df1c56c9cd'), AIMessage(content='Hello! How can I assist you today?', additional_kwargs={'refusal': None}, response_metadata={'token_usage': {'completion_tokens': 9, 'prompt_tokens': 8, 'total_tokens': 17, 'completion_tokens_details': {'accepted_prediction_tokens': 0, 'audio_tokens': 0, 'reasoning_tokens': 0, 'rejected_prediction_tokens': 0}, 'prompt_tokens_details': {'audio_tokens': 0, 'cached_tokens': 0}}, 'model_name': 'gpt-4o-mini-2024-07-18', 'system_fingerprint': 'fp_51db84afab', 'id': 'chatcmpl-CJDU8kBsAWqQqAbFvVNgU2AhmhQ9w', 'service_tier': 'default', 'finish_reason': 'stop', 'logprobs': None}, id='run--d6e4ef54-5041-47f8-bc5b-312753e8ebb1-0', usage_metadata={'input_tokens': 8, 'output_tokens': 9, 'total_tokens': 17, 'input_token_details': {'audio': 0, 'cache_read': 0}, 'output_token_details': {'audio': 0, 'reasoning': 0}})]}\n",
      "{'messages': [HumanMessage(content='who are you', additional_kwargs={}, response_metadata={}, id='f35ce3ae-7dc1-4b13-83e6-0d37b5e4bb37'), AIMessage(content='I am an AI language model created by OpenAI, designed to assist with a variety of questions and tasks by providing information and generating text based on the input I receive. How can I help you today?', additional_kwargs={'refusal': None}, response_metadata={'token_usage': {'completion_tokens': 41, 'prompt_tokens': 10, 'total_tokens': 51, 'completion_tokens_details': {'accepted_prediction_tokens': 0, 'audio_tokens': 0, 'reasoning_tokens': 0, 'rejected_prediction_tokens': 0}, 'prompt_tokens_details': {'audio_tokens': 0, 'cached_tokens': 0}}, 'model_name': 'gpt-4o-mini-2024-07-18', 'system_fingerprint': 'fp_560af6e559', 'id': 'chatcmpl-CJDUD71Xn3ztn3knbsIWACoqLvAi9', 'service_tier': 'default', 'finish_reason': 'stop', 'logprobs': None}, id='run--2d685622-ca57-4e1d-925a-1b4d1551532a-0', usage_metadata={'input_tokens': 10, 'output_tokens': 41, 'total_tokens': 51, 'input_token_details': {'audio': 0, 'cache_read': 0}, 'output_token_details': {'audio': 0, 'reasoning': 0}})]}\n",
      "{'messages': [HumanMessage(content='what framework are you running on', additional_kwargs={}, response_metadata={}, id='eee344da-e289-4c10-b2cb-5b70eae0f45c'), AIMessage(content=\"I am based on OpenAI's GPT-3 architecture, which is part of the larger suite of AI models developed by OpenAI. This framework utilizes deep learning techniques, specifically transformer neural networks, to understand and generate human-like text based on the input it receives. If you have any specific questions about the framework or how it works, feel free to ask!\", additional_kwargs={'refusal': None}, response_metadata={'token_usage': {'completion_tokens': 72, 'prompt_tokens': 13, 'total_tokens': 85, 'completion_tokens_details': {'accepted_prediction_tokens': 0, 'audio_tokens': 0, 'reasoning_tokens': 0, 'rejected_prediction_tokens': 0}, 'prompt_tokens_details': {'audio_tokens': 0, 'cached_tokens': 0}}, 'model_name': 'gpt-4o-mini-2024-07-18', 'system_fingerprint': 'fp_560af6e559', 'id': 'chatcmpl-CJDUVlSsEViTkmSm1wZ0A1X4ZFJEl', 'service_tier': 'default', 'finish_reason': 'stop', 'logprobs': None}, id='run--394b3b8f-d728-4a74-9927-3989d08f975c-0', usage_metadata={'input_tokens': 13, 'output_tokens': 72, 'total_tokens': 85, 'input_token_details': {'audio': 0, 'cache_read': 0}, 'output_token_details': {'audio': 0, 'reasoning': 0}})]}\n",
      "{'messages': [HumanMessage(content='what is langgraph?', additional_kwargs={}, response_metadata={}, id='ac3de87c-95e4-4cca-85d0-fa0eab2c906d'), AIMessage(content='As of my last update in October 2021, there is no widely recognized concept or tool specifically named \"LangGraph\" that stands out in the fields of technology, linguistics, or graph theory. However, it could be a term that has emerged recently or refers to a specialized application, graph-based representation, or some project related to language processing or graph theory.\\n\\nIf \"LangGraph\" is indeed a recent development or a new product, I would recommend checking the latest sources or official websites for up-to-date information. If you have a specific context or additional details about LangGraph, I would be happy to try to help with more tailored information!', additional_kwargs={'refusal': None}, response_metadata={'token_usage': {'completion_tokens': 131, 'prompt_tokens': 12, 'total_tokens': 143, 'completion_tokens_details': {'accepted_prediction_tokens': 0, 'audio_tokens': 0, 'reasoning_tokens': 0, 'rejected_prediction_tokens': 0}, 'prompt_tokens_details': {'audio_tokens': 0, 'cached_tokens': 0}}, 'model_name': 'gpt-4o-mini-2024-07-18', 'system_fingerprint': 'fp_560af6e559', 'id': 'chatcmpl-CJDUgYnoGeM7Tn9o6EyJooIk57iUW', 'service_tier': 'default', 'finish_reason': 'stop', 'logprobs': None}, id='run--9bd43d2b-2434-44b4-a9a8-0be622fe43bb-0', usage_metadata={'input_tokens': 12, 'output_tokens': 131, 'total_tokens': 143, 'input_token_details': {'audio': 0, 'cache_read': 0}, 'output_token_details': {'audio': 0, 'reasoning': 0}})]}\n",
      "{'messages': [HumanMessage(content='my name is blabla', additional_kwargs={}, response_metadata={}, id='e1312ec8-751e-42cd-baa2-1b2486333db1'), AIMessage(content='Nice to meet you, Blabla! How can I assist you today?', additional_kwargs={'refusal': None}, response_metadata={'token_usage': {'completion_tokens': 15, 'prompt_tokens': 12, 'total_tokens': 27, 'completion_tokens_details': {'accepted_prediction_tokens': 0, 'audio_tokens': 0, 'reasoning_tokens': 0, 'rejected_prediction_tokens': 0}, 'prompt_tokens_details': {'audio_tokens': 0, 'cached_tokens': 0}}, 'model_name': 'gpt-4o-mini-2024-07-18', 'system_fingerprint': 'fp_560af6e559', 'id': 'chatcmpl-CJDV4t0vI2iTy5L7PwTaZs3z29FjO', 'service_tier': 'default', 'finish_reason': 'stop', 'logprobs': None}, id='run--a1bcbd30-d034-43c9-91be-23cf9a4181a0-0', usage_metadata={'input_tokens': 12, 'output_tokens': 15, 'total_tokens': 27, 'input_token_details': {'audio': 0, 'cache_read': 0}, 'output_token_details': {'audio': 0, 'reasoning': 0}})]}\n",
      "{'messages': [HumanMessage(content=\"what's my name?\", additional_kwargs={}, response_metadata={}, id='640e1b9d-9141-4b93-8fa3-0ad17a0d73dc'), AIMessage(content=\"I'm sorry, but I can't know your name unless you tell me. How can I assist you today?\", additional_kwargs={'refusal': None}, response_metadata={'token_usage': {'completion_tokens': 21, 'prompt_tokens': 12, 'total_tokens': 33, 'completion_tokens_details': {'accepted_prediction_tokens': 0, 'audio_tokens': 0, 'reasoning_tokens': 0, 'rejected_prediction_tokens': 0}, 'prompt_tokens_details': {'audio_tokens': 0, 'cached_tokens': 0}}, 'model_name': 'gpt-4o-mini-2024-07-18', 'system_fingerprint': 'fp_560af6e559', 'id': 'chatcmpl-CJDV99vWYI9p0piCPkKCBcMRFQNrg', 'service_tier': 'default', 'finish_reason': 'stop', 'logprobs': None}, id='run--e0e50c4f-71f0-41bb-aec3-4c05a8c230f1-0', usage_metadata={'input_tokens': 12, 'output_tokens': 21, 'total_tokens': 33, 'input_token_details': {'audio': 0, 'cache_read': 0}, 'output_token_details': {'audio': 0, 'reasoning': 0}})]}\n",
      "{'messages': [HumanMessage(content='but i just told you my name', additional_kwargs={}, response_metadata={}, id='e90031a5-6b82-4e5d-be5d-82df12131a36'), AIMessage(content='I apologize for not acknowledging your name earlier! What would you like to discuss today?', additional_kwargs={'refusal': None}, response_metadata={'token_usage': {'completion_tokens': 17, 'prompt_tokens': 14, 'total_tokens': 31, 'completion_tokens_details': {'accepted_prediction_tokens': 0, 'audio_tokens': 0, 'reasoning_tokens': 0, 'rejected_prediction_tokens': 0}, 'prompt_tokens_details': {'audio_tokens': 0, 'cached_tokens': 0}}, 'model_name': 'gpt-4o-mini-2024-07-18', 'system_fingerprint': 'fp_560af6e559', 'id': 'chatcmpl-CJDVgYd3b2kAsvAOwV02AXTXrcqi5', 'service_tier': 'default', 'finish_reason': 'stop', 'logprobs': None}, id='run--589aeb59-9931-4082-90a2-5e7d08ff9c3a-0', usage_metadata={'input_tokens': 14, 'output_tokens': 17, 'total_tokens': 31, 'input_token_details': {'audio': 0, 'cache_read': 0}, 'output_token_details': {'audio': 0, 'reasoning': 0}})]}\n",
      "{'messages': [HumanMessage(content=\"what's my name?\", additional_kwargs={}, response_metadata={}, id='ffd80ebc-908c-43c7-a201-5a72121cfa5a'), AIMessage(content=\"I'm sorry, but I don't have access to personal information about you unless you provide it during our conversation. How can I assist you today?\", additional_kwargs={'refusal': None}, response_metadata={'token_usage': {'completion_tokens': 28, 'prompt_tokens': 12, 'total_tokens': 40, 'completion_tokens_details': {'accepted_prediction_tokens': 0, 'audio_tokens': 0, 'reasoning_tokens': 0, 'rejected_prediction_tokens': 0}, 'prompt_tokens_details': {'audio_tokens': 0, 'cached_tokens': 0}}, 'model_name': 'gpt-4o-mini-2024-07-18', 'system_fingerprint': 'fp_560af6e559', 'id': 'chatcmpl-CJDVp2FaCyRt1mjQ0dQEVfWoQyECD', 'service_tier': 'default', 'finish_reason': 'stop', 'logprobs': None}, id='run--20bae497-fbaa-4094-9f18-834f4de125ec-0', usage_metadata={'input_tokens': 12, 'output_tokens': 28, 'total_tokens': 40, 'input_token_details': {'audio': 0, 'cache_read': 0}, 'output_token_details': {'audio': 0, 'reasoning': 0}})]}\n"
     ]
    }
   ],
   "source": [
    "# def chat(user_input: str, history):\n",
    "#     initial_state = State(messages=[{\"role\": \"user\", \"content\": user_input}])\n",
    "#     result = graph.invoke(initial_state)\n",
    "#     print(result)\n",
    "#     return result['messages'][-1].content\n",
    "\n",
    "def chat(user_input: str, history):\n",
    "    initial_state = State(messages=[{\"role\": \"user\", \"content\": user_input}])\n",
    "    result = graph.invoke(initial_state)\n",
    "    print(result)\n",
    "    return result['messages'][-1].content\n",
    "\n",
    "# gr.ChatInterface(chat, type=\"messages\").launch()\n",
    "gr.ChatInterface(chat, type=\"messages\").launch()"
   ]
  },
  {
   "cell_type": "code",
   "execution_count": null,
   "metadata": {},
   "outputs": [],
   "source": []
  }
 ],
 "metadata": {
  "kernelspec": {
   "display_name": ".venv",
   "language": "python",
   "name": "python3"
  },
  "language_info": {
   "codemirror_mode": {
    "name": "ipython",
    "version": 3
   },
   "file_extension": ".py",
   "mimetype": "text/x-python",
   "name": "python",
   "nbconvert_exporter": "python",
   "pygments_lexer": "ipython3",
   "version": "3.12.11"
  }
 },
 "nbformat": 4,
 "nbformat_minor": 2
}
