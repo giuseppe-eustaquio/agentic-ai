{
 "cells": [
  {
   "cell_type": "markdown",
   "metadata": {},
   "source": [
    "# Welcome to the start of your adventure in Agentic AI"
   ]
  },
  {
   "cell_type": "markdown",
   "metadata": {},
   "source": [
    "<table style=\"margin: 0; text-align: left; width:100%\">\n",
    "    <tr>\n",
    "        <td style=\"width: 150px; height: 150px; vertical-align: middle;\">\n",
    "            <img src=\"../assets/stop.png\" width=\"150\" height=\"150\" style=\"display: block;\" />\n",
    "        </td>\n",
    "        <td>\n",
    "            <h2 style=\"color:#ff7800;\">Are you ready for action??</h2>\n",
    "            <span style=\"color:#ff7800;\">Have you completed all the setup steps in the <a href=\"../setup/\">setup</a> folder?<br/>\n",
    "            Have you read the <a href=\"../README.md\">README</a>? Many common questions are answered here!<br/>\n",
    "            Have you checked out the guides in the <a href=\"../guides/01_intro.ipynb\">guides</a> folder?<br/>\n",
    "            Well in that case, you're ready!!\n",
    "            </span>\n",
    "        </td>\n",
    "    </tr>\n",
    "</table>"
   ]
  },
  {
   "cell_type": "markdown",
   "metadata": {},
   "source": [
    "<table style=\"margin: 0; text-align: left; width:100%\">\n",
    "    <tr>\n",
    "        <td style=\"width: 150px; height: 150px; vertical-align: middle;\">\n",
    "            <img src=\"../assets/tools.png\" width=\"150\" height=\"150\" style=\"display: block;\" />\n",
    "        </td>\n",
    "        <td>\n",
    "            <h2 style=\"color:#00bfff;\">This code is a live resource - keep an eye out for my updates</h2>\n",
    "            <span style=\"color:#00bfff;\">I push updates regularly. As people ask questions or have problems, I add more examples and improve explanations. As a result, the code below might not be identical to the videos, as I've added more steps and better comments. Consider this like an interactive book that accompanies the lectures.<br/><br/>\n",
    "            I try to send emails regularly with important updates related to the course. You can find this in the 'Announcements' section of Udemy in the left sidebar. You can also choose to receive my emails via your Notification Settings in Udemy. I'm respectful of your inbox and always try to add value with my emails!\n",
    "            </span>\n",
    "        </td>\n",
    "    </tr>\n",
    "</table>"
   ]
  },
  {
   "cell_type": "markdown",
   "metadata": {},
   "source": [
    "### And please do remember to contact me if I can help\n",
    "\n",
    "And I love to connect: https://www.linkedin.com/in/eddonner/\n",
    "\n",
    "\n",
    "### New to Notebooks like this one? Head over to the guides folder!\n",
    "\n",
    "Just to check you've already added the Python and Jupyter extensions to Cursor, if not already installed:\n",
    "- Open extensions (View >> extensions)\n",
    "- Search for python, and when the results show, click on the ms-python one, and Install it if not already installed\n",
    "- Search for jupyter, and when the results show, click on the Microsoft one, and Install it if not already installed  \n",
    "Then View >> Explorer to bring back the File Explorer.\n",
    "\n",
    "And then:\n",
    "1. Click where it says \"Select Kernel\" near the top right, and select the option called `.venv (Python 3.12.9)` or similar, which should be the first choice or the most prominent choice. You may need to choose \"Python Environments\" first.\n",
    "2. Click in each \"cell\" below, starting with the cell immediately below this text, and press Shift+Enter to run\n",
    "3. Enjoy!\n",
    "\n",
    "After you click \"Select Kernel\", if there is no option like `.venv (Python 3.12.9)` then please do the following:  \n",
    "1. On Mac: From the Cursor menu, choose Settings >> VS Code Settings (NOTE: be sure to select `VSCode Settings` not `Cursor Settings`);  \n",
    "On Windows PC: From the File menu, choose Preferences >> VS Code Settings(NOTE: be sure to select `VSCode Settings` not `Cursor Settings`)  \n",
    "2. In the Settings search bar, type \"venv\"  \n",
    "3. In the field \"Path to folder with a list of Virtual Environments\" put the path to the project root, like C:\\Users\\username\\projects\\agents (on a Windows PC) or /Users/username/projects/agents (on Mac or Linux).  \n",
    "And then try again.\n",
    "\n",
    "Having problems with missing Python versions in that list? Have you ever used Anaconda before? It might be interferring. Quit Cursor, bring up a new command line, and make sure that your Anaconda environment is deactivated:    \n",
    "`conda deactivate`  \n",
    "And if you still have any problems with conda and python versions, it's possible that you will need to run this too:  \n",
    "`conda config --set auto_activate_base false`  \n",
    "and then from within the Agents directory, you should be able to run `uv python list` and see the Python 3.12 version."
   ]
  },
  {
   "cell_type": "code",
   "execution_count": null,
   "metadata": {},
   "outputs": [],
   "source": [
    "# First let's do an import. If you get an Import Error, double check that your Kernel is correct..\n",
    "\n",
    "from dotenv import load_dotenv\n"
   ]
  },
  {
   "cell_type": "code",
   "execution_count": null,
   "metadata": {},
   "outputs": [],
   "source": [
    "# Next it's time to load the API keys into environment variables\n",
    "# If this returns false, see the next cell!\n",
    "\n",
    "load_dotenv(override=True)"
   ]
  },
  {
   "cell_type": "markdown",
   "metadata": {},
   "source": [
    "### Wait, did that just output `False`??\n",
    "\n",
    "If so, the most common reason is that you didn't save your `.env` file after adding the key! Be sure to have saved.\n",
    "\n",
    "Also, make sure the `.env` file is named precisely `.env` and is in the project root directory (`agents`)\n",
    "\n",
    "By the way, your `.env` file should have a stop symbol next to it in Cursor on the left, and that's actually a good thing: that's Cursor saying to you, \"hey, I realize this is a file filled with secret information, and I'm not going to send it to an external AI to suggest changes, because your keys should not be shown to anyone else.\""
   ]
  },
  {
   "cell_type": "markdown",
   "metadata": {},
   "source": [
    "<table style=\"margin: 0; text-align: left; width:100%\">\n",
    "    <tr>\n",
    "        <td style=\"width: 150px; height: 150px; vertical-align: middle;\">\n",
    "            <img src=\"../assets/stop.png\" width=\"150\" height=\"150\" style=\"display: block;\" />\n",
    "        </td>\n",
    "        <td>\n",
    "            <h2 style=\"color:#ff7800;\">Final reminders</h2>\n",
    "            <span style=\"color:#ff7800;\">1. If you're not confident about Environment Variables or Web Endpoints / APIs, please read Topics 3 and 5 in this <a href=\"../guides/04_technical_foundations.ipynb\">technical foundations guide</a>.<br/>\n",
    "            2. If you want to use AIs other than OpenAI, like Gemini, DeepSeek or Ollama (free), please see the first section in this <a href=\"../guides/09_ai_apis_and_ollama.ipynb\">AI APIs guide</a>.<br/>\n",
    "            3. If you ever get a Name Error in Python, you can always fix it immediately; see the last section of this <a href=\"../guides/06_python_foundations.ipynb\">Python Foundations guide</a> and follow both tutorials and exercises.<br/>\n",
    "            </span>\n",
    "        </td>\n",
    "    </tr>\n",
    "</table>"
   ]
  },
  {
   "cell_type": "code",
   "execution_count": 7,
   "metadata": {},
   "outputs": [
    {
     "name": "stdout",
     "output_type": "stream",
     "text": [
      "Google API key found\n"
     ]
    }
   ],
   "source": [
    "# Check the key - if you're not using OpenAI, check whichever key you're using! Ollama doesn't need a key.\n",
    "\n",
    "import os\n",
    "\n",
    "load_dotenv(override=True)\n",
    "\n",
    "\n",
    "google_api_key = os.getenv(\"GOOGLE_API_KEY\")\n",
    "if google_api_key:\n",
    "    print(f\"Google API key found\")\n",
    "else:\n",
    "    print(\"Google API key not found\")\n",
    "\n",
    "\n",
    "\n",
    "\n"
   ]
  },
  {
   "cell_type": "code",
   "execution_count": 8,
   "metadata": {},
   "outputs": [],
   "source": [
    "# And now - the all important import statement\n",
    "# If you get an import error - head over to troubleshooting in the Setup folder\n",
    "# Even for other LLM providers like Gemini, you still use this OpenAI import - see Guide 9 for why\n",
    "from openai import OpenAI\n",
    "from dotenv import load_dotenv\n",
    "GEMINI_BASE_URL = \"https://generativelanguage.googleapis.com/v1beta/openai/\""
   ]
  },
  {
   "cell_type": "code",
   "execution_count": null,
   "metadata": {},
   "outputs": [],
   "source": [
    "# And now we'll create an instance of the OpenAI class\n",
    "# If you're not sure what it means to create an instance of a class - head over to the guides folder (guide 6)!\n",
    "# If you get a NameError - head over to the guides folder (guide 6)to learn about NameErrors - always instantly fixable\n",
    "# If you're not using OpenAI, you just need to slightly modify this - precise instructions are in the AI APIs guide (guide 9)\n",
    "gemini = OpenAI(base_url=GEMINI_BASE_URL, api_key=google_api_key)\n",
    "models = \"gemini-2.5-flash-preview-05-20\""
   ]
  },
  {
   "cell_type": "code",
   "execution_count": 10,
   "metadata": {},
   "outputs": [],
   "source": [
    "# Create a list of messages in the familiar OpenAI format\n",
    "\n",
    "messages = [{\"role\": \"user\", \"content\": \"What is 2+2?\"}]\n"
   ]
  },
  {
   "cell_type": "code",
   "execution_count": 11,
   "metadata": {},
   "outputs": [
    {
     "name": "stdout",
     "output_type": "stream",
     "text": [
      "2 + 2 = 4\n"
     ]
    }
   ],
   "source": [
    "# And now call it! Any problems, head to the troubleshooting guide\n",
    "# This uses GPT 4.1 nano, the incredibly cheap model\n",
    "# The APIs guide (guide 9) has exact instructions for using even cheaper or free alternatives to OpenAI\n",
    "# If you get a NameError, head to the guides folder (guide 6) to learn about NameErrors - always instantly fixable\n",
    "\n",
    "response = gemini.chat.completions.create(model=\"gemini-2.5-flash-preview-05-20\", messages=messages)\n",
    "print(response.choices[0].message.content)"
   ]
  },
  {
   "cell_type": "code",
   "execution_count": 15,
   "metadata": {},
   "outputs": [],
   "source": [
    "# And now - let's ask for a question:\n",
    "\n",
    "question = \"please propose a hard, challenging question to assess someone's IQ. Respond only with the question.\"\n",
    "messages = [{\"role\": \"user\", \"content\": question}]\n"
   ]
  },
  {
   "cell_type": "code",
   "execution_count": 24,
   "metadata": {},
   "outputs": [
    {
     "name": "stdout",
     "output_type": "stream",
     "text": [
      "This is Sylvester's sequence (also known as the Euclid-Mullin sequence).\n",
      "\n",
      "The pattern is: each number is obtained by adding 1 to the previous number, then multiplying that result by the previous number.\n",
      "Alternatively, and perhaps more simply: `a_n = a_{n-1} * (a_{n-1} + 1)`\n",
      "\n",
      "Let's check:\n",
      "*   1\n",
      "*   2 = 1 * (1 + 1)\n",
      "*   6 = 2 * (2 + 1)\n",
      "*   42 = 6 * (6 + 1)\n",
      "*   1806 = 42 * (42 + 1)\n",
      "\n",
      "So, the next number will be:\n",
      "1806 * (1806 + 1) = 1806 * 1807\n",
      "\n",
      "1806 * 1807 = **3,263,442**\n"
     ]
    }
   ],
   "source": [
    "# ask it - this uses GPT 4.1 mini, still cheap but more powerful than nano\n",
    "\n",
    "response = gemini.chat.completions.create(model=\"gemini-2.5-flash-preview-05-20\", messages=messages)\n",
    "question = response.choices[0].message.content\n",
    "\n",
    "print(question)\n",
    "\n"
   ]
  },
  {
   "cell_type": "code",
   "execution_count": 22,
   "metadata": {},
   "outputs": [],
   "source": [
    "# form a new messages list\n",
    "messages = [{\"role\": \"user\", \"content\": question}]"
   ]
  },
  {
   "cell_type": "code",
   "execution_count": 25,
   "metadata": {},
   "outputs": [
    {
     "data": {
      "text/markdown": [
       "This is a sequence where each number is the product of the previous number and (the previous number + 1).\n",
       "\n",
       "Let's break it down:\n",
       "1.  **1**\n",
       "2.  **2** = 1 * (1 + 1) = 1 * 2\n",
       "3.  **6** = 2 * (2 + 1) = 2 * 3\n",
       "4.  **42** = 6 * (6 + 1) = 6 * 7\n",
       "5.  **1806** = 42 * (42 + 1) = 42 * 43\n",
       "\n",
       "Following this pattern, the next number will be:\n",
       "1806 * (1806 + 1) = 1806 * 1807\n",
       "\n",
       "Let's calculate:\n",
       "1806 * 1807 = **3,263,442**\n",
       "\n",
       "The next number in the sequence is **3,263,442**."
      ],
      "text/plain": [
       "<IPython.core.display.Markdown object>"
      ]
     },
     "metadata": {},
     "output_type": "display_data"
    }
   ],
   "source": [
    "response = gemini.chat.completions.create(model=\"gemini-2.5-flash-preview-05-20\", messages=messages)\n",
    "\n",
    "answer = response.choices[0].message.content\n",
    "\n",
    "from IPython.display import Markdown\n",
    "\n",
    "display(Markdown(answer))\n",
    "\n"
   ]
  },
  {
   "cell_type": "markdown",
   "metadata": {},
   "source": [
    "# Congratulations!\n",
    "\n",
    "That was a small, simple step in the direction of Agentic AI, with your new environment!\n",
    "\n",
    "Next time things get more interesting..."
   ]
  },
  {
   "cell_type": "markdown",
   "metadata": {},
   "source": [
    "<table style=\"margin: 0; text-align: left; width:100%\">\n",
    "    <tr>\n",
    "        <td style=\"width: 150px; height: 150px; vertical-align: middle;\">\n",
    "            <img src=\"../assets/exercise.png\" width=\"150\" height=\"150\" style=\"display: block;\" />\n",
    "        </td>\n",
    "        <td>\n",
    "            <h2 style=\"color:#ff7800;\">Exercise</h2>\n",
    "            <span style=\"color:#ff7800;\">Now try this commercial application:<br/>\n",
    "            First ask the LLM to pick a business area that might be worth exploring for an Agentic AI opportunity.<br/>\n",
    "            Then ask the LLM to present a pain-point in that industry - something challenging that might be ripe for an Agentic solution.<br/>\n",
    "            Finally have 3 third LLM call propose the Agentic AI solution. <br/>\n",
    "            We will cover this at up-coming labs, so don't worry if you're unsure.. just give it a try!\n",
    "            </span>\n",
    "        </td>\n",
    "    </tr>\n",
    "</table>"
   ]
  },
  {
   "cell_type": "code",
   "execution_count": 31,
   "metadata": {},
   "outputs": [
    {
     "name": "stdout",
     "output_type": "stream",
     "text": [
      "The Agentic AI space is one of the most exciting and rapidly evolving areas in artificial intelligence. It moves beyond static models to systems that can autonomously perceive, reason, plan, act, and learn in complex environments – essentially, giving AI the ability to *do* things over time towards a goal.\n",
      "\n",
      "Pursuing a career here is incredibly promising due to the high demand, groundbreaking nature, and potential for transformative impact across almost every industry. Here are some of the most compelling career paths, categorized by focus:\n",
      "\n",
      "---\n",
      "\n",
      "### I. Core Development & Engineering Roles\n",
      "\n",
      "These roles are at the heart of building, optimizing, and deploying agentic systems.\n",
      "\n",
      "1.  **Agentic AI Engineer / Multi-Agent Systems Engineer:**\n",
      "    *   **What they do:** Design, develop, and implement the core architecture of AI agents, including planning modules, memory systems, tool-use capabilities, and multi-agent coordination frameworks. They work with LLMs, but also build the surrounding infrastructure that makes them *agentic*.\n",
      "    *   **Why it's worth it:** This is the direct application of cutting-edge research into practical systems. High demand, complex problems, and direct impact on agent performance.\n",
      "    *   **Skills:** Strong programming (Python, C++), deep understanding of AI/ML, distributed systems, reinforcement learning, prompt engineering for agents, API integration, knowledge graphs.\n",
      "\n",
      "2.  **AI Solutions Architect (Agentic Focus):**\n",
      "    *   **What they do:** Design end-to-end agentic solutions for specific business problems. They bridge the gap between business needs and technical capabilities, defining the overall system architecture, choosing the right models/tools, and ensuring scalability, security, and ethical considerations.\n",
      "    *   **Why it's worth it:** High-level strategic role with significant influence. Requires both deep technical knowledge and strong business acumen.\n",
      "    *   **Skills:** System design, cloud architecture, AI/ML expertise, business analysis, communication, project management.\n",
      "\n",
      "3.  **Prompt Engineer (Agentic Focus) / Agent Orchestration Specialist:**\n",
      "    *   **What they do:** Go beyond simple prompt writing. They design sophisticated prompting strategies and orchestration layers to guide agents through complex tasks, manage their sub-goals, facilitate tool use, and handle self-correction. They're like the \"director\" for AI agents.\n",
      "    *   **Why it's worth it:** As agentic systems become more complex, optimizing their behavior through clever prompting and meta-prompting is crucial. This is a highly specialized skill set.\n",
      "    *   **Skills:** Deep understanding of LLM capabilities and limitations, creative problem-solving, understanding of agentic design patterns (e.g., ReAct, Chain-of-Thought), scripting.\n",
      "\n",
      "4.  **Full-Stack Developer (Agentic Applications):**\n",
      "    *   **What they do:** Build the user-facing applications and back-end infrastructure that interact with and leverage AI agents. This includes UIs for agent interaction, dashboards for monitoring, and APIs for agent communication.\n",
      "    *   **Why it's worth it:** Agentic AI needs interfaces and integration points to be truly useful. This role ensures the agents can be deployed and used effectively by humans or other systems.\n",
      "    *   **Skills:** Frontend (React, Vue, Angular), Backend (Node.js, Python/FastAPI), API development, database management, cloud services.\n",
      "\n",
      "---\n",
      "\n",
      "### II. Research & Innovation Roles\n",
      "\n",
      "These roles push the boundaries of what agentic AI can do.\n",
      "\n",
      "1.  **AI Researcher (Agentic Systems / Cognitive Architectures):**\n",
      "    *   **What they do:** Develop new algorithms, architectures, and theoretical frameworks for AI agents. This could involve novel planning algorithms, advanced memory systems, improved tool-use mechanisms, multi-modal agents, or frameworks for self-improving agents.\n",
      "    *   **Why it's worth it:** At the forefront of innovation. High intellectual challenge and potential for groundbreaking discoveries. Often requires a Ph.D.\n",
      "    *   **Skills:** Advanced mathematics, deep learning, reinforcement learning, cognitive science, strong research publication record.\n",
      "\n",
      "2.  **AI Safety & Alignment Engineer/Researcher:**\n",
      "    *   **What they do:** Focus on ensuring agentic systems are safe, reliable, and aligned with human values and intentions. This involves developing methods for robust testing, preventing unintended consequences, ensuring ethical behavior, and creating mechanisms for human oversight and control.\n",
      "    *   **Why it's worth it:** This is arguably *the most critical* long-term area. As agents gain more autonomy, safety and alignment become paramount. High impact and growing demand.\n",
      "    *   **Skills:** AI/ML, ethics, formal methods, game theory, robust control theory, risk assessment.\n",
      "\n",
      "---\n",
      "\n",
      "### III. Product & Application Roles\n",
      "\n",
      "These roles focus on bringing agentic AI solutions to market and solving real-world problems.\n",
      "\n",
      "1.  **AI Product Manager (Agentic Products):**\n",
      "    *   **What they do:** Define the vision, strategy, and roadmap for products powered by agentic AI. They understand market needs, user pain points, and technical capabilities to guide the development of innovative agent-based solutions.\n",
      "    *   **Why it's worth it:** High demand for PMs who understand the unique opportunities and challenges of AI, especially agentic systems. Strategic and impactful.\n",
      "    *   **Skills:** Product management, market research, user experience, AI/ML fundamentals, business strategy, communication.\n",
      "\n",
      "2.  **Domain Expert + AI Integrator:**\n",
      "    *   **What they do:** Individuals with deep expertise in a specific industry (e.g., healthcare, finance, manufacturing, legal) who also understand AI capabilities. They identify opportunities for agentic AI to solve specific industry problems and work with engineering teams to integrate these solutions.\n",
      "    *   **Why it's worth it:** These roles are crucial for bridging the gap between cutting-edge tech and real-world application. High value for businesses seeking to leverage AI for competitive advantage.\n",
      "    *   **Skills:** Deep domain knowledge, AI/ML fundamentals, problem-solving, project management, communication.\n",
      "\n",
      "---\n",
      "\n",
      "### IV. Infrastructure & Operations Roles\n",
      "\n",
      "These roles ensure that agentic AI systems can run effectively and reliably.\n",
      "\n",
      "1.  **MLOps Engineer (Agentic Focus):**\n",
      "    *   **What they do:** Build and manage the infrastructure and pipelines for deploying, monitoring, and maintaining agentic AI systems in production. This includes data pipelines for agent memory, model versioning, continuous integration/delivery, and robust monitoring of agent behavior.\n",
      "    *   **Why it's worth it:** As agents become more complex and autonomous, robust MLOps practices are essential for stability, scalability, and performance.\n",
      "    *   **Skills:** DevOps, cloud platforms (AWS, Azure, GCP), Kubernetes, Docker, CI/CD, data engineering, monitoring tools, scripting.\n",
      "\n",
      "2.  **Data Engineer (Agentic Memory & Data Flow):**\n",
      "    *   **What they do:** Design and build data pipelines specifically for agent memory, experiences, and learning data. This includes structured and unstructured data storage, retrieval systems for context, and feedback loops for agent improvement.\n",
      "    *   **Why it's worth it:** Agents rely heavily on their \"memory\" and access to relevant information. Designing efficient and scalable data infrastructure for these dynamic systems is a specialized and critical task.\n",
      "    *   **Skills:** Database technologies (SQL, NoSQL, vector databases), ETL, distributed data processing (Spark, Flink), cloud data services.\n",
      "\n",
      "---\n",
      "\n",
      "### Why these careers are \"worth pursuing\":\n",
      "\n",
      "*   **High Demand & Growth:** The field is exploding, and demand for skilled professionals far outstrips supply.\n",
      "*   **Cutting-Edge Innovation:** You'll be working at the forefront of technology, solving problems that haven't been tackled before.\n",
      "*   **Transformative Impact:** Agentic AI has the potential to revolutionize industries, automate complex tasks, and create entirely new capabilities, leading to significant real-world impact.\n",
      "*   **Intellectual Challenge:** The problems are complex, multi-faceted, and require a blend of creativity, technical prowess, and critical thinking.\n",
      "*   **Lucrative Compensation:** Reflecting the demand and specialized skills, salaries in this field are highly competitive.\n",
      "\n",
      "### How to Get Started:\n",
      "\n",
      "1.  **Strong Fundamentals:** Master programming (Python), data structures, algorithms, and core AI/ML concepts (deep learning, reinforcement learning).\n",
      "2.  **Specialized Knowledge:** Dive into topics like large language models, planning algorithms, multi-agent systems, prompt engineering, tool use, and cognitive architectures.\n",
      "3.  **Hands-on Projects:** Build your own agents, participate in hackathons, contribute to open-source agent frameworks (e.g., LangChain, AutoGen, CrewAI, BabyAGI).\n",
      "4.  **Stay Updated:** Follow leading researchers, read papers (e.g., ArXiv), and engage with the AI community.\n",
      "5.  **Education:** A Bachelor's or Master's degree in Computer Science, AI, or a related field is highly beneficial, especially for research or deep engineering roles.\n",
      "\n",
      "The agentic AI space offers a future rich with opportunity for those willing to embrace its challenges and contribute to its rapid evolution.\n"
     ]
    }
   ],
   "source": [
    "# First create the messages:\n",
    "messages = [{\"role\": \"user\", \"content\": \"What career is worth pursuing in the Agentic AI space?\"}]\n",
    "model = \"gemini-2.5-flash-preview-05-20\"\n",
    "\n",
    "# Then make the first call:\n",
    "response = gemini.chat.completions.create(model=model, messages=messages)\n",
    "\n",
    "\n",
    "# Then read the business idea:\n",
    "\n",
    "career_idea = response.choices[0].message.content\n",
    "\n",
    "# And repeat! In the next message, include the business idea within the message\n",
    "\n",
    "print(career_idea)"
   ]
  },
  {
   "cell_type": "markdown",
   "metadata": {},
   "source": []
  }
 ],
 "metadata": {
  "kernelspec": {
   "display_name": ".venv",
   "language": "python",
   "name": "python3"
  },
  "language_info": {
   "codemirror_mode": {
    "name": "ipython",
    "version": 3
   },
   "file_extension": ".py",
   "mimetype": "text/x-python",
   "name": "python",
   "nbconvert_exporter": "python",
   "pygments_lexer": "ipython3",
   "version": "3.12.11"
  }
 },
 "nbformat": 4,
 "nbformat_minor": 2
}
