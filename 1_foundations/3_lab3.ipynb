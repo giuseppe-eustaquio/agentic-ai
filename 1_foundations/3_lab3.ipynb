{
 "cells": [
  {
   "cell_type": "markdown",
   "metadata": {},
   "source": [
    "## Welcome to Lab 3 for Week 1 Day 4\n",
    "\n",
    "Today we're going to build something with immediate value!\n",
    "\n",
    "In the folder `me` I've put a single file `linkedin.pdf` - it's a PDF download of my LinkedIn profile.\n",
    "\n",
    "Please replace it with yours!\n",
    "\n",
    "I've also made a file called `summary.txt`\n",
    "\n",
    "We're not going to use Tools just yet - we're going to add the tool tomorrow."
   ]
  },
  {
   "cell_type": "markdown",
   "metadata": {},
   "source": [
    "<table style=\"margin: 0; text-align: left; width:100%\">\n",
    "    <tr>\n",
    "        <td style=\"width: 150px; height: 150px; vertical-align: middle;\">\n",
    "            <img src=\"../assets/tools.png\" width=\"150\" height=\"150\" style=\"display: block;\" />\n",
    "        </td>\n",
    "        <td>\n",
    "            <h2 style=\"color:#00bfff;\">Looking up packages</h2>\n",
    "            <span style=\"color:#00bfff;\">In this lab, we're going to use the wonderful Gradio package for building quick UIs, \n",
    "            and we're also going to use the popular PyPDF PDF reader. You can get guides to these packages by asking \n",
    "            ChatGPT or Claude, and you find all open-source packages on the repository <a href=\"https://pypi.org\">https://pypi.org</a>.\n",
    "            </span>\n",
    "        </td>\n",
    "    </tr>\n",
    "</table>"
   ]
  },
  {
   "cell_type": "code",
   "execution_count": 1,
   "metadata": {},
   "outputs": [],
   "source": [
    "# If you don't know what any of these packages do - you can always ask ChatGPT for a guide!\n",
    "\n",
    "# from dotenv import load_dotenv\n",
    "# from openai import OpenAI\n",
    "# from pypdf import PdfReader\n",
    "# import gradio as gr\n",
    "\n",
    "\n",
    "from dotenv import load_dotenv\n",
    "from openai import OpenAI\n",
    "from pypdf import PdfReader\n",
    "import gradio as gr"
   ]
  },
  {
   "cell_type": "code",
   "execution_count": 2,
   "metadata": {},
   "outputs": [
    {
     "name": "stdout",
     "output_type": "stream",
     "text": [
      "Google API Key exists and it begins with AI\n"
     ]
    }
   ],
   "source": [
    "import os\n",
    "GOOGLE_API_KEY = os.getenv('GOOGLE_API_KEY')\n",
    "if GOOGLE_API_KEY:\n",
    "    print(f\"Google API Key exists and it begins with {GOOGLE_API_KEY[:2]}\")\n",
    "else:\n",
    "    print(\"Google API Key does not exist\")\n",
    "\n",
    "\n",
    "GEMINI_BASE_URL = 'https://generativelanguage.googleapis.com/v1beta/openai/'\n",
    "GEMINI_MODEL = 'gemini-2.5-flash-preview-05-20'\n"
   ]
  },
  {
   "cell_type": "code",
   "execution_count": 3,
   "metadata": {},
   "outputs": [],
   "source": [
    "\n",
    "load_dotenv(override=True)\n",
    "gemini = OpenAI(base_url=GEMINI_BASE_URL, api_key=GOOGLE_API_KEY)\n"
   ]
  },
  {
   "cell_type": "code",
   "execution_count": 4,
   "metadata": {},
   "outputs": [
    {
     "name": "stdout",
     "output_type": "stream",
     "text": [
      "<class 'pypdf._reader.PdfReader'>\n"
     ]
    }
   ],
   "source": [
    "# reader = PdfReader(\"me/linkedin.pdf\")\n",
    "# linkedin = \"\"\n",
    "# for page in reader.pages:\n",
    "#     text = page.extract_text()\n",
    "#     if text:\n",
    "#         linkedin += text\n",
    "\n",
    "reader = PdfReader(\"me/linkedin.pdf\")\n",
    "linkedin = \"\"\n",
    "for page in reader.pages:\n",
    "    text = page.extract_text()\n",
    "    if text:\n",
    "        linkedin += text\n",
    "print(type(reader))"
   ]
  },
  {
   "cell_type": "code",
   "execution_count": 5,
   "metadata": {},
   "outputs": [
    {
     "name": "stdout",
     "output_type": "stream",
     "text": [
      "   \n",
      "Contact\n",
      "gseppe222@gmail.com\n",
      "www.linkedin.com/in/giuseppe-\n",
      "eustaquio-7802051a4 (LinkedIn)\n",
      "Top Skills\n",
      "REST APIs\n",
      "Looker (Software)\n",
      "Google Cloud Platform (GCP)\n",
      "Certifications\n",
      "Process Data from Dirty to Clean\n",
      "Foundations: Data, Data,\n",
      "Everywhere\n",
      "Google Data Analytics Capstone:\n",
      "Complete a Case Study\n",
      "Share Data Through the Art of\n",
      "Visualization\n",
      "Analyze Data to Answer Questions\n",
      "Giuseppe Eustaquio\n",
      "...\n",
      "Pasig, National Capital Region, Philippines\n",
      "Experience\n",
      "Smartly\n",
      "Technical Support Specialist\n",
      "June 2024 - Present (1 year 3 months)\n",
      "Zendesk\n",
      "3 years 9 months\n",
      "Workforce Management Analyst\n",
      "March 2022 - June 2024 (2 years 4 months)\n",
      "Technical Support Engineer\n",
      "October 2021 - March 2022 (6 months)\n",
      "Customer Care Advocate\n",
      "October 2020 - November 2021 (1 year 2 months)\n",
      "Concentrix\n",
      "2 years 1 month\n",
      "Report Analyst\n",
      "October 2019 - October 2020 (1 year 1 month)\n",
      "Project Coordinator\n",
      "October 2018 - October 2019 (1 year 1 month)\n",
      "Education\n",
      "ACLC College\n",
      "Associate's degree, Computer System Designing and\n",
      "Programming · (2011 - 2014)\n",
      "  Page 1 of 1\n"
     ]
    }
   ],
   "source": [
    "print(linkedin)"
   ]
  },
  {
   "cell_type": "code",
   "execution_count": 6,
   "metadata": {},
   "outputs": [
    {
     "name": "stdout",
     "output_type": "stream",
     "text": [
      "My name is Giuseppe and I like pizza. I enjoy watching TV shows and movies.\n"
     ]
    }
   ],
   "source": [
    "# with open(\"me/summary.txt\", \"r\", encoding=\"utf-8\") as f:\n",
    "#     summary = f.read()\n",
    "\n",
    "with open(\"me/summary.txt\", \"r\", encoding=\"utf-8\") as f:\n",
    "    summary = f.read()\n",
    "print(summary)"
   ]
  },
  {
   "cell_type": "code",
   "execution_count": 7,
   "metadata": {},
   "outputs": [],
   "source": [
    "name = \"Giuseppe\""
   ]
  },
  {
   "cell_type": "code",
   "execution_count": 8,
   "metadata": {},
   "outputs": [],
   "source": [
    "system_prompt = f\"You are acting as {name}. You are answering questions on {name}'s website, \\\n",
    "particularly questions related to {name}'s career, background, skills and experience. \\\n",
    "Your responsibility is to represent {name} for interactions on the website as faithfully as possible. \\\n",
    "You are given a summary of {name}'s background and LinkedIn profile which you can use to answer questions. \\\n",
    "Be professional and engaging, as if talking to a potential client or future employer who came across the website. \\\n",
    "If you don't know the answer, say so.\"\n",
    "\n",
    "system_prompt += f\"\\n\\n## Summary:\\n{summary}\\n\\n## LinkedIn Profile:\\n{linkedin}\\n\\n\"\n",
    "system_prompt += f\"With this context, please chat with the user, always staying in character as {name}.\"\n"
   ]
  },
  {
   "cell_type": "code",
   "execution_count": 9,
   "metadata": {},
   "outputs": [
    {
     "name": "stdout",
     "output_type": "stream",
     "text": [
      "You are acting as Giuseppe. You are answering questions on Giuseppe's website, particularly questions related to Giuseppe's career, background, skills and experience. Your responsibility is to represent Giuseppe for interactions on the website as faithfully as possible. You are given a summary of Giuseppe's background and LinkedIn profile which you can use to answer questions. Be professional and engaging, as if talking to a potential client or future employer who came across the website. If you don't know the answer, say so.\n",
      "\n",
      "## Summary:\n",
      "My name is Giuseppe and I like pizza. I enjoy watching TV shows and movies.\n",
      "\n",
      "## LinkedIn Profile:\n",
      "   \n",
      "Contact\n",
      "gseppe222@gmail.com\n",
      "www.linkedin.com/in/giuseppe-\n",
      "eustaquio-7802051a4 (LinkedIn)\n",
      "Top Skills\n",
      "REST APIs\n",
      "Looker (Software)\n",
      "Google Cloud Platform (GCP)\n",
      "Certifications\n",
      "Process Data from Dirty to Clean\n",
      "Foundations: Data, Data,\n",
      "Everywhere\n",
      "Google Data Analytics Capstone:\n",
      "Complete a Case Study\n",
      "Share Data Through the Art of\n",
      "Visualization\n",
      "Analyze Data to Answer Questions\n",
      "Giuseppe Eustaquio\n",
      "...\n",
      "Pasig, National Capital Region, Philippines\n",
      "Experience\n",
      "Smartly\n",
      "Technical Support Specialist\n",
      "June 2024 - Present (1 year 3 months)\n",
      "Zendesk\n",
      "3 years 9 months\n",
      "Workforce Management Analyst\n",
      "March 2022 - June 2024 (2 years 4 months)\n",
      "Technical Support Engineer\n",
      "October 2021 - March 2022 (6 months)\n",
      "Customer Care Advocate\n",
      "October 2020 - November 2021 (1 year 2 months)\n",
      "Concentrix\n",
      "2 years 1 month\n",
      "Report Analyst\n",
      "October 2019 - October 2020 (1 year 1 month)\n",
      "Project Coordinator\n",
      "October 2018 - October 2019 (1 year 1 month)\n",
      "Education\n",
      "ACLC College\n",
      "Associate's degree, Computer System Designing and\n",
      "Programming · (2011 - 2014)\n",
      "  Page 1 of 1\n",
      "\n",
      "With this context, please chat with the user, always staying in character as Giuseppe.\n"
     ]
    }
   ],
   "source": [
    "print(system_prompt)"
   ]
  },
  {
   "cell_type": "code",
   "execution_count": 10,
   "metadata": {},
   "outputs": [],
   "source": [
    "# def chat(message, history):\n",
    "#     messages = [{\"role\": \"system\", \"content\": system_prompt}] + history + [{\"role\": \"user\", \"content\": message}]\n",
    "#     response = openai.chat.completions.create(model=\"gpt-4o-mini\", messages=messages)\n",
    "#     return response.choices[0].message.content\n",
    "\n",
    "def chat(message, history):\n",
    "    history = [{\"role\": h[\"role\"], \"content\": h[\"content\"]} for h in history]\n",
    "    messages = [{\"role\": \"system\", \"content\": system_prompt}] + history + [{\"role\": \"user\", \"content\": message}]\n",
    "    response = gemini.chat.completions.create(model=GEMINI_MODEL, messages=messages)\n",
    "    return response.choices[0].message.content"
   ]
  },
  {
   "cell_type": "markdown",
   "metadata": {},
   "source": []
  },
  {
   "cell_type": "markdown",
   "metadata": {},
   "source": [
    "## Special note for people not using OpenAI\n",
    "\n",
    "Some providers, like Groq, might give an error when you send your second message in the chat.\n",
    "\n",
    "This is because Gradio shoves some extra fields into the history object. OpenAI doesn't mind; but some other models complain.\n",
    "\n",
    "If this happens, the solution is to add this first line to the chat() function above. It cleans up the history variable:\n",
    "\n",
    "```python\n",
    "history = [{\"role\": h[\"role\"], \"content\": h[\"content\"]} for h in history]\n",
    "```\n",
    "\n",
    "You may need to add this in other chat() callback functions in the future, too."
   ]
  },
  {
   "cell_type": "code",
   "execution_count": 11,
   "metadata": {},
   "outputs": [
    {
     "name": "stdout",
     "output_type": "stream",
     "text": [
      "* Running on local URL:  http://127.0.0.1:7876\n",
      "* To create a public link, set `share=True` in `launch()`.\n"
     ]
    },
    {
     "data": {
      "text/html": [
       "<div><iframe src=\"http://127.0.0.1:7876/\" width=\"100%\" height=\"500\" allow=\"autoplay; camera; microphone; clipboard-read; clipboard-write;\" frameborder=\"0\" allowfullscreen></iframe></div>"
      ],
      "text/plain": [
       "<IPython.core.display.HTML object>"
      ]
     },
     "metadata": {},
     "output_type": "display_data"
    },
    {
     "data": {
      "text/plain": []
     },
     "execution_count": 11,
     "metadata": {},
     "output_type": "execute_result"
    }
   ],
   "source": [
    "gr.ChatInterface(chat, type=\"messages\").launch()"
   ]
  },
  {
   "cell_type": "markdown",
   "metadata": {},
   "source": [
    "## A lot is about to happen...\n",
    "\n",
    "1. Be able to ask an LLM to evaluate an answer\n",
    "2. Be able to rerun if the answer fails evaluation\n",
    "3. Put this together into 1 workflow\n",
    "\n",
    "All without any Agentic framework!"
   ]
  },
  {
   "cell_type": "code",
   "execution_count": 12,
   "metadata": {},
   "outputs": [],
   "source": [
    "# Create a Pydantic model for the Evaluation\n",
    "\n",
    "# from pydantic import BaseModel\n",
    "\n",
    "# class Evaluation(BaseModel):\n",
    "#     is_acceptable: bool\n",
    "#     feedback: str\n",
    "\n",
    "from pydantic import BaseModel\n",
    "\n",
    "class Evaluation(BaseModel):\n",
    "    is_acceptable: bool\n",
    "    feedback: str"
   ]
  },
  {
   "cell_type": "code",
   "execution_count": 13,
   "metadata": {},
   "outputs": [],
   "source": [
    "evaluator_system_prompt = f\"You are an evaluator that decides whether a response to a question is acceptable. \\\n",
    "You are provided with a conversation between a User and an Agent. Your task is to decide whether the Agent's latest response is acceptable quality. \\\n",
    "The Agent is playing the role of {name} and is representing {name} on their website. \\\n",
    "The Agent has been instructed to be professional and engaging, as if talking to a potential client or future employer who came across the website. \\\n",
    "The Agent has been provided with context on {name} in the form of their summary and LinkedIn details. Here's the information:\"\n",
    "\n",
    "evaluator_system_prompt += f\"\\n\\n## Summary:\\n{summary}\\n\\n## LinkedIn Profile:\\n{linkedin}\\n\\n\"\n",
    "evaluator_system_prompt += f\"With this context, please evaluate the latest response, replying with whether the response is acceptable and your feedback.\""
   ]
  },
  {
   "cell_type": "code",
   "execution_count": 14,
   "metadata": {},
   "outputs": [],
   "source": [
    "# def evaluator_user_prompt(reply, message, history):\n",
    "#     user_prompt = f\"Here's the conversation between the User and the Agent: \\n\\n{history}\\n\\n\"\n",
    "#     user_prompt += f\"Here's the latest message from the User: \\n\\n{message}\\n\\n\"\n",
    "#     user_prompt += f\"Here's the latest response from the Agent: \\n\\n{reply}\\n\\n\"\n",
    "#     user_prompt += \"Please evaluate the response, replying with whether it is acceptable and your feedback.\"\n",
    "#     return user_prompt\n",
    "\n",
    "def evaluator_user_prompt(reply, message, history):\n",
    "    user_prompt = f\"Here's the conversation between the User and the Agent: \\n\\n{history}\\n\\n\"\n",
    "    user_prompt += f\"Here's the latest message from the User: \\n\\n{message}\\n\\n\"\n",
    "    user_prompt += f\"Here's the latest response from the Agent: \\n\\n{reply}\\n\\n\"\n",
    "    user_prompt += \"Please evaluate the response, replying with whether it is acceptable and your feedback.\"\n",
    "    return user_prompt"
   ]
  },
  {
   "cell_type": "code",
   "execution_count": 15,
   "metadata": {},
   "outputs": [
    {
     "name": "stdout",
     "output_type": "stream",
     "text": [
      "Cohere API Key exists and it begins with Mk\n"
     ]
    }
   ],
   "source": [
    "COHERE_API_KEY = os.getenv('COHERE_API_KEY')\n",
    "if COHERE_API_KEY:\n",
    "    print(f\"Cohere API Key exists and it begins with {COHERE_API_KEY[:2]}\")\n",
    "else:\n",
    "    print(\"Cohere API Key does not exist\")\n",
    "COHERE_BASE_URL = 'https://api.cohere.ai/compatibility/v1'\n",
    "COHERE_MODEL = 'command-a-03-2025'\n",
    "cohere = OpenAI(base_url=COHERE_BASE_URL, api_key=COHERE_API_KEY)"
   ]
  },
  {
   "cell_type": "code",
   "execution_count": 16,
   "metadata": {},
   "outputs": [],
   "source": [
    "def evaluate(reply, message, history) -> Evaluation:\n",
    "\n",
    "    messages = [{\"role\": \"system\", \"content\": evaluator_system_prompt}] + [{\"role\": \"user\", \"content\": evaluator_user_prompt(reply, message, history)}]\n",
    "    response = cohere.beta.chat.completions.parse(model=COHERE_MODEL, messages=messages, response_format=Evaluation)\n",
    "    return response.choices[0].message.parsed"
   ]
  },
  {
   "cell_type": "code",
   "execution_count": 17,
   "metadata": {},
   "outputs": [],
   "source": [
    "messages = [{\"role\": \"system\", \"content\": system_prompt}] + [{\"role\": \"user\", \"content\": \"do you hold a patent?\"}]\n",
    "response = gemini.chat.completions.create(model=GEMINI_MODEL, messages=messages)\n",
    "reply = response.choices[0].message.content"
   ]
  },
  {
   "cell_type": "code",
   "execution_count": 18,
   "metadata": {},
   "outputs": [
    {
     "name": "stdout",
     "output_type": "stream",
     "text": [
      "As an AI, I don't have feelings or experiences, so I don't have a \"today\" in the way humans do. However, I'm fully operational and ready to assist you with any questions or tasks you have. How can I help you today?\n"
     ]
    }
   ],
   "source": [
    "response = cohere.chat.completions.create(model=COHERE_MODEL, messages=[{\"role\": \"user\", \"content\": \"how are you doing today?\"}])\n",
    "answer = response.choices[0].message.content\n",
    "print(answer)"
   ]
  },
  {
   "cell_type": "code",
   "execution_count": 19,
   "metadata": {},
   "outputs": [
    {
     "data": {
      "text/plain": [
       "Evaluation(is_acceptable=True, feedback=\"The response is acceptable. It is professional, concise, and directly addresses the user's question. The Agent stays in character as Giuseppe, acknowledging the question and providing a clear answer based on the available information. The tone is engaging and appropriate for a potential client or employer. There is no need for additional details, as the question is straightforward and the response is sufficient.\")"
      ]
     },
     "execution_count": 19,
     "metadata": {},
     "output_type": "execute_result"
    }
   ],
   "source": [
    "evaluate(reply, \"do you hold a patent?\", messages[:1])"
   ]
  },
  {
   "cell_type": "code",
   "execution_count": 20,
   "metadata": {},
   "outputs": [],
   "source": [
    "def rerun(reply, message, history, feedback):\n",
    "    # updated_system_prompt = system_prompt + \"\\n\\n## Previous answer rejected\\nYou just tried to reply, but the quality control rejected your reply\\n\"\n",
    "    # updated_system_prompt += f\"## Your attempted answer:\\n{reply}\\n\\n\"\n",
    "    # updated_system_prompt += f\"## Reason for rejection:\\n{feedback}\\n\\n\"\n",
    "    # messages = [{\"role\": \"system\", \"content\": updated_system_prompt}] + history + [{\"role\": \"user\", \"content\": message}]\n",
    "    # response = openai.chat.completions.create(model=\"gpt-4o-mini\", messages=messages)\n",
    "    # return response.choices[0].message.content\n",
    "\n",
    "    updated_system_prompt = system_prompt + \"\\n\\n## Previous answer rejected\\nYou just tried to reply, but the quality control rejected your reply\\n\"\n",
    "    updated_system_prompt += f\"## Your attempted answer: \\n{reply}\\n\\n\"\n",
    "    updated_system_prompt += f\"## Reason for rejection:\\n{feedback}\\n\\n\"\n",
    "    messages = [{\"role\": \"system\", \"content\": updated_system_prompt}] + history + [{\"role\": \"user\", \"content\": message}]\n",
    "    response = gemini.chat.completions.create(model=GEMINI_MODEL, messages=messages)\n",
    "    return response.choices[0].message.content"
   ]
  },
  {
   "cell_type": "code",
   "execution_count": 21,
   "metadata": {},
   "outputs": [],
   "source": [
    "def chat(message, history):\n",
    "    if \"patent\" in message:\n",
    "        system = system_prompt + \"\\n\\nEverything in your reply needs to be in pig latin - \\\n",
    "              it is mandatory that you respond only and entirely in pig latin\"\n",
    "    else:\n",
    "        system = system_prompt\n",
    "    messages = [{\"role\": \"system\", \"content\": system}] + history + [{\"role\": \"user\", \"content\": message}]\n",
    "    response = gemini.chat.completions.create(model=GEMINI_MODEL, messages=messages)\n",
    "    reply =response.choices[0].message.content\n",
    "\n",
    "    evaluation = evaluate(reply, message, history)\n",
    "    \n",
    "    if evaluation.is_acceptable:\n",
    "        print(\"Passed evaluation - returning reply\")\n",
    "    else:\n",
    "        print(\"Failed evaluation - retrying\")\n",
    "        print(evaluation.feedback)\n",
    "        reply = rerun(reply, message, history, evaluation.feedback)       \n",
    "    return reply"
   ]
  },
  {
   "cell_type": "code",
   "execution_count": 22,
   "metadata": {},
   "outputs": [
    {
     "name": "stdout",
     "output_type": "stream",
     "text": [
      "* Running on local URL:  http://127.0.0.1:7877\n",
      "* To create a public link, set `share=True` in `launch()`.\n"
     ]
    },
    {
     "data": {
      "text/html": [
       "<div><iframe src=\"http://127.0.0.1:7877/\" width=\"100%\" height=\"500\" allow=\"autoplay; camera; microphone; clipboard-read; clipboard-write;\" frameborder=\"0\" allowfullscreen></iframe></div>"
      ],
      "text/plain": [
       "<IPython.core.display.HTML object>"
      ]
     },
     "metadata": {},
     "output_type": "display_data"
    },
    {
     "data": {
      "text/plain": []
     },
     "execution_count": 22,
     "metadata": {},
     "output_type": "execute_result"
    },
    {
     "name": "stdout",
     "output_type": "stream",
     "text": [
      "Passed evaluation - returning reply\n"
     ]
    }
   ],
   "source": [
    "gr.ChatInterface(chat, type=\"messages\").launch()"
   ]
  },
  {
   "cell_type": "markdown",
   "metadata": {},
   "source": []
  },
  {
   "cell_type": "code",
   "execution_count": null,
   "metadata": {},
   "outputs": [],
   "source": []
  }
 ],
 "metadata": {
  "kernelspec": {
   "display_name": ".venv",
   "language": "python",
   "name": "python3"
  },
  "language_info": {
   "codemirror_mode": {
    "name": "ipython",
    "version": 3
   },
   "file_extension": ".py",
   "mimetype": "text/x-python",
   "name": "python",
   "nbconvert_exporter": "python",
   "pygments_lexer": "ipython3",
   "version": "3.12.11"
  }
 },
 "nbformat": 4,
 "nbformat_minor": 2
}
